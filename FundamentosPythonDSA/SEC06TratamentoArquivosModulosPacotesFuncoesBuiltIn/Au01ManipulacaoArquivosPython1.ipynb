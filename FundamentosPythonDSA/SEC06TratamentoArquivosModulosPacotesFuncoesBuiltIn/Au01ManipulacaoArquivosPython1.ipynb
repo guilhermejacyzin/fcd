{
 "cells": [
  {
   "cell_type": "markdown",
   "source": [
    "## Lendo arquivos"
   ],
   "metadata": {
    "collapsed": false
   }
  },
  {
   "cell_type": "code",
   "execution_count": 2,
   "outputs": [],
   "source": [
    "# Abrindo arquivos para leitura\n",
    "arq1 = open(\"arquivos/arquivo1.txt\", \"r\")"
   ],
   "metadata": {
    "collapsed": false,
    "ExecuteTime": {
     "end_time": "2024-10-23T02:29:29.821328400Z",
     "start_time": "2024-10-23T02:29:29.808329Z"
    }
   }
  },
  {
   "cell_type": "code",
   "execution_count": 3,
   "outputs": [
    {
     "name": "stdout",
     "output_type": "stream",
     "text": [
      "A Data Science Academy fornece cursos de alta qualidade e que transmitem muito conhecimento.\n"
     ]
    }
   ],
   "source": [
    "# Lendo o arquivo\n",
    "print(arq1.read())"
   ],
   "metadata": {
    "collapsed": false,
    "ExecuteTime": {
     "end_time": "2024-10-23T02:29:44.475807200Z",
     "start_time": "2024-10-23T02:29:44.471811700Z"
    }
   }
  },
  {
   "cell_type": "code",
   "execution_count": 4,
   "outputs": [
    {
     "name": "stdout",
     "output_type": "stream",
     "text": [
      "92\n"
     ]
    }
   ],
   "source": [
    "# Contar o número de caracteres\n",
    "print(arq1.tell())"
   ],
   "metadata": {
    "collapsed": false,
    "ExecuteTime": {
     "end_time": "2024-10-23T02:30:52.365794900Z",
     "start_time": "2024-10-23T02:30:52.349117700Z"
    }
   }
  },
  {
   "cell_type": "code",
   "execution_count": 5,
   "outputs": [
    {
     "name": "stdout",
     "output_type": "stream",
     "text": [
      "0\n"
     ]
    }
   ],
   "source": [
    "# Retornar para o início do arquivo\n",
    "print(arq1.seek(0,0))"
   ],
   "metadata": {
    "collapsed": false,
    "ExecuteTime": {
     "end_time": "2024-10-23T02:31:14.532747800Z",
     "start_time": "2024-10-23T02:31:14.517500800Z"
    }
   }
  },
  {
   "cell_type": "code",
   "execution_count": 6,
   "outputs": [
    {
     "name": "stdout",
     "output_type": "stream",
     "text": [
      "A Data Science Academy \n"
     ]
    }
   ],
   "source": [
    "# Lendo primeiros 23 caracteres\n",
    "print(arq1.read(23))"
   ],
   "metadata": {
    "collapsed": false,
    "ExecuteTime": {
     "end_time": "2024-10-23T02:31:34.233491Z",
     "start_time": "2024-10-23T02:31:34.168166600Z"
    }
   }
  },
  {
   "cell_type": "code",
   "execution_count": null,
   "outputs": [],
   "source": [],
   "metadata": {
    "collapsed": false
   }
  }
 ],
 "metadata": {
  "kernelspec": {
   "display_name": "Python 3",
   "language": "python",
   "name": "python3"
  },
  "language_info": {
   "codemirror_mode": {
    "name": "ipython",
    "version": 2
   },
   "file_extension": ".py",
   "mimetype": "text/x-python",
   "name": "python",
   "nbconvert_exporter": "python",
   "pygments_lexer": "ipython2",
   "version": "2.7.6"
  }
 },
 "nbformat": 4,
 "nbformat_minor": 0
}
