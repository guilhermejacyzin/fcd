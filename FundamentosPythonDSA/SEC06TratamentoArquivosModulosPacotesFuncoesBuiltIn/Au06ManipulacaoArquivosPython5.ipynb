{
 "cells": [
  {
   "cell_type": "markdown",
   "source": [
    "## Utilizando outros métodos necessários"
   ],
   "metadata": {
    "collapsed": false
   }
  },
  {
   "cell_type": "code",
   "execution_count": 1,
   "outputs": [],
   "source": [
    "import pandas as pd"
   ],
   "metadata": {
    "collapsed": false,
    "ExecuteTime": {
     "end_time": "2024-10-23T05:06:42.433564700Z",
     "start_time": "2024-10-23T05:06:41.064734800Z"
    }
   }
  },
  {
   "cell_type": "code",
   "execution_count": 2,
   "outputs": [],
   "source": [
    "arquivo = \"arquivos/salarios.csv\""
   ],
   "metadata": {
    "collapsed": false,
    "ExecuteTime": {
     "end_time": "2024-10-23T05:06:51.348294200Z",
     "start_time": "2024-10-23T05:06:51.338295700Z"
    }
   }
  },
  {
   "cell_type": "code",
   "execution_count": 3,
   "outputs": [],
   "source": [
    "df = pd.read_csv(arquivo)"
   ],
   "metadata": {
    "collapsed": false,
    "ExecuteTime": {
     "end_time": "2024-10-23T05:07:02.658570400Z",
     "start_time": "2024-10-23T05:07:02.594905500Z"
    }
   }
  },
  {
   "cell_type": "code",
   "execution_count": 4,
   "outputs": [
    {
     "data": {
      "text/plain": "<bound method NDFrame.head of                       Name            Position Title        Department  \\\n0          AARON,  ELVIA J          WATER RATE TAKER       WATER MGMNT   \n1        AARON,  JEFFERY M            POLICE OFFICER            POLICE   \n2           AARON,  KARINA            POLICE OFFICER            POLICE   \n3      AARON,  KIMBERLEI R  CHIEF CONTRACT EXPEDITER  GENERAL SERVICES   \n4      ABAD JR,  VICENTE M         CIVIL ENGINEER IV       WATER MGMNT   \n...                    ...                       ...               ...   \n32177   ZYGOWICZ,  PETER J            POLICE OFFICER            POLICE   \n32178    ZYMANTAS,  MARK E            POLICE OFFICER            POLICE   \n32179  ZYRKOWSKI,  CARLO E            POLICE OFFICER            POLICE   \n32180  ZYSKOWSKI,  DARIUSZ   CHIEF DATA BASE ANALYST              DoIT   \n32181                  NaN                       NaN               NaN   \n\n      Employee Annual Salary  \n0                  $88967.00  \n1                  $80778.00  \n2                  $80778.00  \n3                  $84780.00  \n4                 $104736.00  \n...                      ...  \n32177              $86520.00  \n32178              $83616.00  \n32179              $86520.00  \n32180             $110352.00  \n32181                    NaN  \n\n[32182 rows x 4 columns]>"
     },
     "execution_count": 4,
     "metadata": {},
     "output_type": "execute_result"
    }
   ],
   "source": [
    "df.head"
   ],
   "metadata": {
    "collapsed": false,
    "ExecuteTime": {
     "end_time": "2024-10-23T05:07:06.296223200Z",
     "start_time": "2024-10-23T05:07:06.285220900Z"
    }
   }
  },
  {
   "cell_type": "code",
   "execution_count": 5,
   "outputs": [
    {
     "data": {
      "text/plain": "                  Name            Position Title        Department  \\\n0      AARON,  ELVIA J          WATER RATE TAKER       WATER MGMNT   \n1    AARON,  JEFFERY M            POLICE OFFICER            POLICE   \n2       AARON,  KARINA            POLICE OFFICER            POLICE   \n3  AARON,  KIMBERLEI R  CHIEF CONTRACT EXPEDITER  GENERAL SERVICES   \n4  ABAD JR,  VICENTE M         CIVIL ENGINEER IV       WATER MGMNT   \n\n  Employee Annual Salary  \n0              $88967.00  \n1              $80778.00  \n2              $80778.00  \n3              $84780.00  \n4             $104736.00  ",
      "text/html": "<div>\n<style scoped>\n    .dataframe tbody tr th:only-of-type {\n        vertical-align: middle;\n    }\n\n    .dataframe tbody tr th {\n        vertical-align: top;\n    }\n\n    .dataframe thead th {\n        text-align: right;\n    }\n</style>\n<table border=\"1\" class=\"dataframe\">\n  <thead>\n    <tr style=\"text-align: right;\">\n      <th></th>\n      <th>Name</th>\n      <th>Position Title</th>\n      <th>Department</th>\n      <th>Employee Annual Salary</th>\n    </tr>\n  </thead>\n  <tbody>\n    <tr>\n      <th>0</th>\n      <td>AARON,  ELVIA J</td>\n      <td>WATER RATE TAKER</td>\n      <td>WATER MGMNT</td>\n      <td>$88967.00</td>\n    </tr>\n    <tr>\n      <th>1</th>\n      <td>AARON,  JEFFERY M</td>\n      <td>POLICE OFFICER</td>\n      <td>POLICE</td>\n      <td>$80778.00</td>\n    </tr>\n    <tr>\n      <th>2</th>\n      <td>AARON,  KARINA</td>\n      <td>POLICE OFFICER</td>\n      <td>POLICE</td>\n      <td>$80778.00</td>\n    </tr>\n    <tr>\n      <th>3</th>\n      <td>AARON,  KIMBERLEI R</td>\n      <td>CHIEF CONTRACT EXPEDITER</td>\n      <td>GENERAL SERVICES</td>\n      <td>$84780.00</td>\n    </tr>\n    <tr>\n      <th>4</th>\n      <td>ABAD JR,  VICENTE M</td>\n      <td>CIVIL ENGINEER IV</td>\n      <td>WATER MGMNT</td>\n      <td>$104736.00</td>\n    </tr>\n  </tbody>\n</table>\n</div>"
     },
     "execution_count": 5,
     "metadata": {},
     "output_type": "execute_result"
    }
   ],
   "source": [
    "df.head()"
   ],
   "metadata": {
    "collapsed": false,
    "ExecuteTime": {
     "end_time": "2024-10-23T05:07:22.073326700Z",
     "start_time": "2024-10-23T05:07:22.042692600Z"
    }
   }
  },
  {
   "cell_type": "code",
   "execution_count": 6,
   "outputs": [
    {
     "data": {
      "text/plain": "                    Name            Position Title        Department  \\\n0        AARON,  ELVIA J          WATER RATE TAKER       WATER MGMNT   \n1      AARON,  JEFFERY M            POLICE OFFICER            POLICE   \n2         AARON,  KARINA            POLICE OFFICER            POLICE   \n3    AARON,  KIMBERLEI R  CHIEF CONTRACT EXPEDITER  GENERAL SERVICES   \n4    ABAD JR,  VICENTE M         CIVIL ENGINEER IV       WATER MGMNT   \n5        ABARCA,  ANABEL      ASST TO THE ALDERMAN      CITY COUNCIL   \n6      ABARCA,  EMMANUEL     GENERAL LABORER - DSS     STREETS & SAN   \n7  ABBATACOLA,  ROBERT J       ELECTRICAL MECHANIC          AVIATION   \n8  ABBATEMARCO,  JAMES J             FIRE ENGINEER              FIRE   \n9       ABBATE,  TERRY M            POLICE OFFICER            POLICE   \n\n  Employee Annual Salary  \n0              $88967.00  \n1              $80778.00  \n2              $80778.00  \n3              $84780.00  \n4             $104736.00  \n5              $70764.00  \n6              $40560.00  \n7              $91520.00  \n8              $90456.00  \n9              $86520.00  ",
      "text/html": "<div>\n<style scoped>\n    .dataframe tbody tr th:only-of-type {\n        vertical-align: middle;\n    }\n\n    .dataframe tbody tr th {\n        vertical-align: top;\n    }\n\n    .dataframe thead th {\n        text-align: right;\n    }\n</style>\n<table border=\"1\" class=\"dataframe\">\n  <thead>\n    <tr style=\"text-align: right;\">\n      <th></th>\n      <th>Name</th>\n      <th>Position Title</th>\n      <th>Department</th>\n      <th>Employee Annual Salary</th>\n    </tr>\n  </thead>\n  <tbody>\n    <tr>\n      <th>0</th>\n      <td>AARON,  ELVIA J</td>\n      <td>WATER RATE TAKER</td>\n      <td>WATER MGMNT</td>\n      <td>$88967.00</td>\n    </tr>\n    <tr>\n      <th>1</th>\n      <td>AARON,  JEFFERY M</td>\n      <td>POLICE OFFICER</td>\n      <td>POLICE</td>\n      <td>$80778.00</td>\n    </tr>\n    <tr>\n      <th>2</th>\n      <td>AARON,  KARINA</td>\n      <td>POLICE OFFICER</td>\n      <td>POLICE</td>\n      <td>$80778.00</td>\n    </tr>\n    <tr>\n      <th>3</th>\n      <td>AARON,  KIMBERLEI R</td>\n      <td>CHIEF CONTRACT EXPEDITER</td>\n      <td>GENERAL SERVICES</td>\n      <td>$84780.00</td>\n    </tr>\n    <tr>\n      <th>4</th>\n      <td>ABAD JR,  VICENTE M</td>\n      <td>CIVIL ENGINEER IV</td>\n      <td>WATER MGMNT</td>\n      <td>$104736.00</td>\n    </tr>\n    <tr>\n      <th>5</th>\n      <td>ABARCA,  ANABEL</td>\n      <td>ASST TO THE ALDERMAN</td>\n      <td>CITY COUNCIL</td>\n      <td>$70764.00</td>\n    </tr>\n    <tr>\n      <th>6</th>\n      <td>ABARCA,  EMMANUEL</td>\n      <td>GENERAL LABORER - DSS</td>\n      <td>STREETS &amp; SAN</td>\n      <td>$40560.00</td>\n    </tr>\n    <tr>\n      <th>7</th>\n      <td>ABBATACOLA,  ROBERT J</td>\n      <td>ELECTRICAL MECHANIC</td>\n      <td>AVIATION</td>\n      <td>$91520.00</td>\n    </tr>\n    <tr>\n      <th>8</th>\n      <td>ABBATEMARCO,  JAMES J</td>\n      <td>FIRE ENGINEER</td>\n      <td>FIRE</td>\n      <td>$90456.00</td>\n    </tr>\n    <tr>\n      <th>9</th>\n      <td>ABBATE,  TERRY M</td>\n      <td>POLICE OFFICER</td>\n      <td>POLICE</td>\n      <td>$86520.00</td>\n    </tr>\n  </tbody>\n</table>\n</div>"
     },
     "execution_count": 6,
     "metadata": {},
     "output_type": "execute_result"
    }
   ],
   "source": [
    "df.head(10)"
   ],
   "metadata": {
    "collapsed": false,
    "ExecuteTime": {
     "end_time": "2024-10-23T05:07:26.727625300Z",
     "start_time": "2024-10-23T05:07:26.715626700Z"
    }
   }
  },
  {
   "cell_type": "code",
   "execution_count": 7,
   "outputs": [
    {
     "data": {
      "text/plain": "POLICE OFFICER                            9489\nFIREFIGHTER-EMT                           1191\nSERGEANT                                  1138\nFIREFIGHTER                                970\nPOLICE OFFICER (ASSIGNED AS DETECTIVE)     808\n                                          ... \nFOREMAN OF WINDOW WASHERS                    1\nSUPVSR OF INFORMATION SERVICES               1\nMANAGER OF TAX POLICY                        1\nFOREMAN OF ARCHITECTURAL IRON WORKERS        1\nMECHANICAL ENGINEER IV                       1\nName: Position Title, Length: 1094, dtype: int64"
     },
     "execution_count": 7,
     "metadata": {},
     "output_type": "execute_result"
    }
   ],
   "source": [
    "df['Position Title'].value_counts()"
   ],
   "metadata": {
    "collapsed": false,
    "ExecuteTime": {
     "end_time": "2024-10-23T05:08:36.812482900Z",
     "start_time": "2024-10-23T05:08:36.796482900Z"
    }
   }
  },
  {
   "cell_type": "code",
   "execution_count": null,
   "outputs": [],
   "source": [],
   "metadata": {
    "collapsed": false
   }
  }
 ],
 "metadata": {
  "kernelspec": {
   "display_name": "Python 3",
   "language": "python",
   "name": "python3"
  },
  "language_info": {
   "codemirror_mode": {
    "name": "ipython",
    "version": 2
   },
   "file_extension": ".py",
   "mimetype": "text/x-python",
   "name": "python",
   "nbconvert_exporter": "python",
   "pygments_lexer": "ipython2",
   "version": "2.7.6"
  }
 },
 "nbformat": 4,
 "nbformat_minor": 0
}
