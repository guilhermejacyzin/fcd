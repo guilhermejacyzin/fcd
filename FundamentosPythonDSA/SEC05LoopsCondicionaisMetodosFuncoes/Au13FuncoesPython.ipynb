{
 "cells": [
  {
   "cell_type": "markdown",
   "source": [
    "## Funções"
   ],
   "metadata": {
    "collapsed": false
   }
  },
  {
   "cell_type": "code",
   "execution_count": 2,
   "outputs": [
    {
     "name": "stdout",
     "output_type": "stream",
     "text": [
      "funcao\n"
     ]
    }
   ],
   "source": [
    "print(\"funcao\")"
   ],
   "metadata": {
    "collapsed": false,
    "ExecuteTime": {
     "end_time": "2024-10-03T04:36:39.873808300Z",
     "start_time": "2024-10-03T04:36:39.873808300Z"
    }
   }
  },
  {
   "cell_type": "code",
   "execution_count": 3,
   "outputs": [],
   "source": [
    "def primeiraFunc():\n",
    "    print(\"Olá Mundo\")"
   ],
   "metadata": {
    "collapsed": false,
    "ExecuteTime": {
     "end_time": "2024-10-03T04:36:56.552367500Z",
     "start_time": "2024-10-03T04:36:56.536741800Z"
    }
   }
  },
  {
   "cell_type": "code",
   "execution_count": 4,
   "outputs": [
    {
     "name": "stdout",
     "output_type": "stream",
     "text": [
      "Olá Mundo\n"
     ]
    }
   ],
   "source": [
    "primeiraFunc()"
   ],
   "metadata": {
    "collapsed": false,
    "ExecuteTime": {
     "end_time": "2024-10-03T04:36:59.381569Z",
     "start_time": "2024-10-03T04:36:59.365942800Z"
    }
   }
  },
  {
   "cell_type": "code",
   "execution_count": 5,
   "outputs": [],
   "source": [
    "# Definindo uma\n",
    "\n",
    "def primeiraFunc():\n",
    "    nome = \"Gui\"\n",
    "    print('Oi %s' %(nome))"
   ],
   "metadata": {
    "collapsed": false,
    "ExecuteTime": {
     "end_time": "2024-10-03T04:38:15.011895400Z",
     "start_time": "2024-10-03T04:38:14.996265700Z"
    }
   }
  },
  {
   "cell_type": "code",
   "execution_count": 6,
   "outputs": [
    {
     "name": "stdout",
     "output_type": "stream",
     "text": [
      "Oi Gui\n"
     ]
    }
   ],
   "source": [
    "primeiraFunc()"
   ],
   "metadata": {
    "collapsed": false,
    "ExecuteTime": {
     "end_time": "2024-10-03T04:38:17.552179800Z",
     "start_time": "2024-10-03T04:38:17.536553100Z"
    }
   }
  },
  {
   "cell_type": "code",
   "execution_count": 7,
   "outputs": [],
   "source": [
    "# Definindo uma nova função com parâmetro\n",
    "def segundaFunc(nome):\n",
    "    print('Oi %s' %(nome))"
   ],
   "metadata": {
    "collapsed": false,
    "ExecuteTime": {
     "end_time": "2024-10-03T04:39:19.062080200Z",
     "start_time": "2024-10-03T04:39:19.046451200Z"
    }
   }
  },
  {
   "cell_type": "code",
   "execution_count": 9,
   "outputs": [
    {
     "name": "stdout",
     "output_type": "stream",
     "text": [
      "Oi Aluno\n"
     ]
    }
   ],
   "source": [
    "segundaFunc('Aluno')"
   ],
   "metadata": {
    "collapsed": false,
    "ExecuteTime": {
     "end_time": "2024-10-03T04:39:34.993127800Z",
     "start_time": "2024-10-03T04:39:34.977503600Z"
    }
   }
  },
  {
   "cell_type": "code",
   "execution_count": 15,
   "outputs": [],
   "source": [
    "# Função para imprimir números\n",
    "def imprimeNumeros():\n",
    "\n",
    "    # Loop\n",
    "    for i in range(0,5):\n",
    "        print(\"Número \" + str(i))"
   ],
   "metadata": {
    "collapsed": false,
    "ExecuteTime": {
     "end_time": "2024-10-03T04:42:01.707857700Z",
     "start_time": "2024-10-03T04:42:01.698859Z"
    }
   }
  },
  {
   "cell_type": "code",
   "execution_count": 16,
   "outputs": [
    {
     "name": "stdout",
     "output_type": "stream",
     "text": [
      "Número 0\n",
      "Número 1\n",
      "Número 2\n",
      "Número 3\n",
      "Número 4\n"
     ]
    }
   ],
   "source": [
    "imprimeNumeros()"
   ],
   "metadata": {
    "collapsed": false,
    "ExecuteTime": {
     "end_time": "2024-10-03T04:42:08.243016400Z",
     "start_time": "2024-10-03T04:42:08.239017Z"
    }
   }
  },
  {
   "cell_type": "code",
   "execution_count": 17,
   "outputs": [],
   "source": [
    "# Função para somar números\n",
    "\n",
    "def addNum(firstnum, secondnum):\n",
    "    print(\"Primeiro número:  \" + str(firstnum))\n",
    "    print(\"Primeiro número:  \" + str(secondnum))\n",
    "    print(\"Soma: \", firstnum + secondnum)"
   ],
   "metadata": {
    "collapsed": false,
    "ExecuteTime": {
     "end_time": "2024-10-03T04:43:26.135979200Z",
     "start_time": "2024-10-03T04:43:26.124981700Z"
    }
   }
  },
  {
   "cell_type": "code",
   "execution_count": 19,
   "outputs": [
    {
     "name": "stdout",
     "output_type": "stream",
     "text": [
      "Primeiro número:  4\n",
      "Primeiro número:  7\n",
      "Soma:  11\n"
     ]
    }
   ],
   "source": [
    "addNum(4, 7)"
   ],
   "metadata": {
    "collapsed": false,
    "ExecuteTime": {
     "end_time": "2024-10-03T04:43:35.316916700Z",
     "start_time": "2024-10-03T04:43:35.300918600Z"
    }
   }
  },
  {
   "cell_type": "code",
   "execution_count": 20,
   "outputs": [
    {
     "name": "stdout",
     "output_type": "stream",
     "text": [
      "Primeiro número:  45\n",
      "Primeiro número:  3\n",
      "Soma:  48\n"
     ]
    }
   ],
   "source": [
    "addNum(45,3)"
   ],
   "metadata": {
    "collapsed": false,
    "ExecuteTime": {
     "end_time": "2024-10-03T04:44:02.344511100Z",
     "start_time": "2024-10-03T04:44:02.318511400Z"
    }
   }
  },
  {
   "cell_type": "code",
   "execution_count": 36,
   "outputs": [],
   "source": [
    "def calcAddnum(primeiroNum, segundoNum):\n",
    "    print(\"Primeiro número é: \" + str(primeiroNum))\n",
    "    print(\"Primeiro número é: \" + str(segundoNum))\n",
    "    print(\"Soma: \", primeiroNum + segundoNum)\n",
    "    print(\"Subtração: \", primeiroNum - segundoNum)\n",
    "    print(\"Divisão: \", round(primeiroNum / segundoNum, 2))\n",
    "    print(\"Divisão int: \", primeiroNum // segundoNum)\n",
    "    print(\"Multiplicação: \", primeiroNum * segundoNum)\n",
    "    print(\"Potenciação: \", primeiroNum ** segundoNum)\n",
    "    if primeiroNum % 2 == 0:\n",
    "        print(\"Primeiro número é par\")\n",
    "    else:\n",
    "        print(\"Primeiro número é impar\")\n",
    "    if segundoNum % 2 == 0:\n",
    "        print(\"Segundo número é par\")\n",
    "    else:\n",
    "        print(\"Segundo número é impar\")\n"
   ],
   "metadata": {
    "collapsed": false,
    "ExecuteTime": {
     "end_time": "2024-10-03T04:52:17.307342600Z",
     "start_time": "2024-10-03T04:52:17.291718800Z"
    }
   }
  },
  {
   "cell_type": "code",
   "execution_count": 37,
   "outputs": [
    {
     "name": "stdout",
     "output_type": "stream",
     "text": [
      "Primeiro número é: 5\n",
      "Primeiro número é: 12\n",
      "Soma:  17\n",
      "Subtração:  -7\n",
      "Divisão:  0.42\n",
      "Divisão int:  0\n",
      "Multiplicação:  60\n",
      "Potenciação:  244140625\n",
      "Primeiro número é impar\n",
      "Segundo número é par\n"
     ]
    }
   ],
   "source": [
    "calcAddnum(5, 12)"
   ],
   "metadata": {
    "collapsed": false,
    "ExecuteTime": {
     "end_time": "2024-10-03T04:52:18.275328100Z",
     "start_time": "2024-10-03T04:52:18.259705300Z"
    }
   }
  },
  {
   "cell_type": "code",
   "execution_count": 40,
   "outputs": [],
   "source": [
    "# Função com número variado de argumentos\n",
    "\n",
    "def printVarInfo( arg1, * vartuple):\n",
    "    # Imprimindo o calor do primeiro argumento\n",
    "    print(\"O parâmetro passado foi: \", arg1)\n",
    "\n",
    "    # Imprimindo o valor do segundo argumento\n",
    "    for item in vartuple:\n",
    "        print(\"O parâmetro passado foi: \", item)\n",
    "    return;"
   ],
   "metadata": {
    "collapsed": false,
    "ExecuteTime": {
     "end_time": "2024-10-03T04:58:07.423892300Z",
     "start_time": "2024-10-03T04:58:07.377019100Z"
    }
   }
  },
  {
   "cell_type": "code",
   "execution_count": 41,
   "outputs": [
    {
     "name": "stdout",
     "output_type": "stream",
     "text": [
      "O parâmetro passado foi:  10\n"
     ]
    }
   ],
   "source": [
    "# Fazendo chamada à função usando apenas 1 argumento\n",
    "printVarInfo(10)"
   ],
   "metadata": {
    "collapsed": false,
    "ExecuteTime": {
     "end_time": "2024-10-03T04:58:37.178127Z",
     "start_time": "2024-10-03T04:58:37.162497400Z"
    }
   }
  },
  {
   "cell_type": "code",
   "execution_count": 42,
   "outputs": [
    {
     "name": "stdout",
     "output_type": "stream",
     "text": [
      "O parâmetro passado foi:  Chocolate\n",
      "O parâmetro passado foi:  Morango\n"
     ]
    }
   ],
   "source": [
    "printVarInfo(\"Chocolate\", \"Morango\")"
   ],
   "metadata": {
    "collapsed": false,
    "ExecuteTime": {
     "end_time": "2024-10-03T04:58:56.080855400Z",
     "start_time": "2024-10-03T04:58:56.065233300Z"
    }
   }
  },
  {
   "cell_type": "code",
   "execution_count": 43,
   "outputs": [
    {
     "name": "stdout",
     "output_type": "stream",
     "text": [
      "O parâmetro passado foi:  10\n",
      "O parâmetro passado foi:  Info\n",
      "O parâmetro passado foi:  2.84\n",
      "O parâmetro passado foi:  Morango\n",
      "O parâmetro passado foi:  Info\n"
     ]
    }
   ],
   "source": [
    "printVarInfo(10, \"Info\", 2.84, \"Morango\", \"Info\")"
   ],
   "metadata": {
    "collapsed": false,
    "ExecuteTime": {
     "end_time": "2024-10-03T04:59:14.681355100Z",
     "start_time": "2024-10-03T04:59:14.665723Z"
    }
   }
  },
  {
   "cell_type": "code",
   "execution_count": 44,
   "outputs": [
    {
     "name": "stdout",
     "output_type": "stream",
     "text": [
      "O parâmetro passado foi:  Guilherme!\n",
      "O parâmetro passado foi:  Vamos que vamos!\n",
      "O parâmetro passado foi:  Ainda não\n",
      "O parâmetro passado foi:  Um pouco mais\n"
     ]
    }
   ],
   "source": [
    "printVarInfo(\"Guilherme!\", \"Vamos que vamos!\", \"Ainda não\", \"Um pouco mais\")"
   ],
   "metadata": {
    "collapsed": false,
    "ExecuteTime": {
     "end_time": "2024-10-03T04:59:51.695392100Z",
     "start_time": "2024-10-03T04:59:51.664144900Z"
    }
   }
  },
  {
   "cell_type": "code",
   "execution_count": null,
   "outputs": [],
   "source": [],
   "metadata": {
    "collapsed": false
   }
  }
 ],
 "metadata": {
  "kernelspec": {
   "display_name": "Python 3",
   "language": "python",
   "name": "python3"
  },
  "language_info": {
   "codemirror_mode": {
    "name": "ipython",
    "version": 2
   },
   "file_extension": ".py",
   "mimetype": "text/x-python",
   "name": "python",
   "nbconvert_exporter": "python",
   "pygments_lexer": "ipython2",
   "version": "2.7.6"
  }
 },
 "nbformat": 4,
 "nbformat_minor": 0
}
