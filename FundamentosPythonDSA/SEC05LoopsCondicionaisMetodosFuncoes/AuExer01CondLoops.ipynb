{
 "cells": [
  {
   "cell_type": "code",
   "execution_count": 28,
   "outputs": [
    {
     "name": "stdout",
     "output_type": "stream",
     "text": [
      "Os dias da semana são: \n",
      "1 - Domingo\n",
      "2 - Segunda-feira\n",
      "3 - Terça-feira\n",
      "4 - Quarta-feira\n",
      "5 - Quinta-feira\n",
      "6 - Sexta-feira\n",
      "7 - Sábado\n",
      "\n"
     ]
    }
   ],
   "source": [
    "print(\"Os dias da semana são: \\n\"\n",
    "      \"1 - Domingo\\n\"\n",
    "      \"2 - Segunda-feira\\n\"\n",
    "      \"3 - Terça-feira\\n\"\n",
    "      \"4 - Quarta-feira\\n\"\n",
    "      \"5 - Quinta-feira\\n\"\n",
    "      \"6 - Sexta-feira\\n\"\n",
    "      \"7 - Sábado\\n\"\n",
    "      )"
   ],
   "metadata": {
    "collapsed": false,
    "ExecuteTime": {
     "end_time": "2024-10-10T15:26:17.900622100Z",
     "start_time": "2024-10-10T15:26:17.884995900Z"
    }
   }
  },
  {
   "cell_type": "code",
   "execution_count": 29,
   "outputs": [],
   "source": [
    "diaSemana = int(input(\"Qual o dia da semana? \"))"
   ],
   "metadata": {
    "collapsed": false,
    "ExecuteTime": {
     "end_time": "2024-10-10T15:26:19.447230300Z",
     "start_time": "2024-10-10T15:26:17.900622100Z"
    }
   }
  },
  {
   "cell_type": "code",
   "execution_count": 30,
   "outputs": [],
   "source": [
    "from unittest import case"
   ],
   "metadata": {
    "collapsed": false,
    "ExecuteTime": {
     "end_time": "2024-10-10T15:26:19.447230300Z",
     "start_time": "2024-10-10T15:26:19.431606400Z"
    }
   }
  },
  {
   "cell_type": "code",
   "execution_count": 31,
   "outputs": [
    {
     "name": "stdout",
     "output_type": "stream",
     "text": [
      "Dia inválido\n"
     ]
    }
   ],
   "source": [
    "match diaSemana:\n",
    "    case 1:\n",
    "        print(\"Hoje é dia de descanso\")\n",
    "    case 2:\n",
    "        print(\"Hoje é segunda-feira, vá trabalhar\")\n",
    "    case 3:\n",
    "        print(\"Hoje é terça-feira, vá trabalhar\")\n",
    "    case 4:\n",
    "        print(\"Hoje é quarta-feira, vá trabalhar\")\n",
    "    case 5:\n",
    "        print(\"Hoje é quinta-feira, vá trabalhar\")\n",
    "    case 6:\n",
    "        print(\"Hoje é sexta-feira, vá trabalhar\")\n",
    "    case 7:\n",
    "        print(\"Hoje é sábado, vá trabalhar\")\n",
    "    case _:\n",
    "        print(\"Dia inválido\")"
   ],
   "metadata": {
    "collapsed": false,
    "ExecuteTime": {
     "end_time": "2024-10-10T15:26:19.462855600Z",
     "start_time": "2024-10-10T15:26:19.447230300Z"
    }
   }
  },
  {
   "cell_type": "code",
   "execution_count": 32,
   "outputs": [
    {
     "name": "stdout",
     "output_type": "stream",
     "text": [
      "Inválido\n"
     ]
    }
   ],
   "source": [
    "if diaSemana == 1:\n",
    "    print(\"Hoje é dia de descanso\")\n",
    "elif diaSemana == 2:\n",
    "    print(\"Você precisa trabalhar\")\n",
    "elif diaSemana == 3:\n",
    "    print(\"Você precisa trabalhar\")\n",
    "elif diaSemana == 4:\n",
    "    print(\"Você precisa trabalhar\")\n",
    "elif diaSemana == 5:\n",
    "    print(\"Você precisa trabalhar\")\n",
    "elif diaSemana == 6:\n",
    "    print(\"Você precisa trabalhar\")\n",
    "elif diaSemana == 7:\n",
    "    print(\"Hoje é dia de descanso\")\n",
    "else:\n",
    "    print(\"Inválido\")"
   ],
   "metadata": {
    "collapsed": false,
    "ExecuteTime": {
     "end_time": "2024-10-10T15:26:19.509730200Z",
     "start_time": "2024-10-10T15:26:19.462855600Z"
    }
   }
  },
  {
   "cell_type": "code",
   "execution_count": 32,
   "outputs": [],
   "source": [],
   "metadata": {
    "collapsed": false,
    "ExecuteTime": {
     "end_time": "2024-10-10T15:26:19.509730200Z",
     "start_time": "2024-10-10T15:26:19.478480900Z"
    }
   }
  }
 ],
 "metadata": {
  "kernelspec": {
   "display_name": "Python 3",
   "language": "python",
   "name": "python3"
  },
  "language_info": {
   "codemirror_mode": {
    "name": "ipython",
    "version": 2
   },
   "file_extension": ".py",
   "mimetype": "text/x-python",
   "name": "python",
   "nbconvert_exporter": "python",
   "pygments_lexer": "ipython2",
   "version": "2.7.6"
  }
 },
 "nbformat": 4,
 "nbformat_minor": 0
}
