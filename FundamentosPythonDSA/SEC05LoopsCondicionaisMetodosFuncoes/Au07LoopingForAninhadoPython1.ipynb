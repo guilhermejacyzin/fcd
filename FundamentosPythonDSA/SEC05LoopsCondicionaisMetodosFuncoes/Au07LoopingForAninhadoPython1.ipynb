{
 "cells": [
  {
   "cell_type": "markdown",
   "source": [
    "## Looping For Aninhado"
   ],
   "metadata": {
    "collapsed": false
   }
  },
  {
   "cell_type": "code",
   "execution_count": 1,
   "outputs": [],
   "source": [
    "lista1 = [0,1,2,3,4]\n",
    "lista2 = [1,2,3]"
   ],
   "metadata": {
    "collapsed": false,
    "ExecuteTime": {
     "end_time": "2024-10-02T02:58:58.505125600Z",
     "start_time": "2024-10-02T02:58:58.489504500Z"
    }
   }
  },
  {
   "cell_type": "code",
   "execution_count": 3,
   "outputs": [
    {
     "name": "stdout",
     "output_type": "stream",
     "text": [
      "\n",
      " 1\n",
      "\n",
      " 2\n",
      "\n",
      " 3\n",
      "---\n",
      "\n",
      " 2\n",
      "\n",
      " 3\n",
      "\n",
      " 4\n",
      "---\n",
      "\n",
      " 3\n",
      "\n",
      " 4\n",
      "\n",
      " 5\n",
      "---\n",
      "\n",
      " 4\n",
      "\n",
      " 5\n",
      "\n",
      " 6\n",
      "---\n",
      "\n",
      " 5\n",
      "\n",
      " 6\n",
      "\n",
      " 7\n",
      "---\n"
     ]
    }
   ],
   "source": [
    "# Loop externo - Para cada elemento da lista 1 faça um loop da lista 2\n",
    "for elemento_lista1 in lista1:\n",
    "    # Loop interno\n",
    "    for elemento_lista2 in lista2:\n",
    "\n",
    "        print('\\n', elemento_lista1 + elemento_lista2)\n",
    "    print('---')"
   ],
   "metadata": {
    "collapsed": false,
    "ExecuteTime": {
     "end_time": "2024-10-02T03:08:10.371865400Z",
     "start_time": "2024-10-02T03:08:10.356239800Z"
    }
   }
  },
  {
   "cell_type": "code",
   "execution_count": 6,
   "outputs": [
    {
     "name": "stdout",
     "output_type": "stream",
     "text": [
      "O número 47 foi encontrado nas duas listas!\n"
     ]
    }
   ],
   "source": [
    "# O número 47 aparece nas duas listas?\n",
    "\n",
    "lista1 = [10,16,24,39,47]\n",
    "lista2 = [32,89,47,76,12]\n",
    "\n",
    "# Loop externo\n",
    "for elemento_lista1 in lista1:\n",
    "\n",
    "    # Loop interno\n",
    "    for elemento_lista2 in lista2:\n",
    "\n",
    "        # Condicional\n",
    "        if elemento_lista1 == 47 and elemento_lista2 == 47:\n",
    "\n",
    "            print(\"O número 47 foi encontrado nas duas listas!\")"
   ],
   "metadata": {
    "collapsed": false,
    "ExecuteTime": {
     "end_time": "2024-10-02T03:54:32.161969600Z",
     "start_time": "2024-10-02T03:54:32.146341Z"
    }
   }
  },
  {
   "cell_type": "code",
   "execution_count": 7,
   "outputs": [
    {
     "name": "stdout",
     "output_type": "stream",
     "text": [
      "A soma dos números pares das duas listas é igual a 170\n"
     ]
    }
   ],
   "source": [
    "# Some os números pareds da lista com os números pares da lista 2\n",
    "\n",
    "lista1 = [10,16,24,39,47]\n",
    "lista2 = [32,89,47,76,12]\n",
    "soma = 0\n",
    "\n",
    "# Loop externo\n",
    "for lista in [lista1, lista2]:\n",
    "\n",
    "    # Loop interno\n",
    "    for num in lista:\n",
    "\n",
    "        # Condicional\n",
    "        if num % 2 == 0:\n",
    "            soma += num\n",
    "print(\"A soma dos números pares das duas listas é igual a\", soma)"
   ],
   "metadata": {
    "collapsed": false,
    "ExecuteTime": {
     "end_time": "2024-10-02T03:57:31.004710300Z",
     "start_time": "2024-10-02T03:57:30.973460100Z"
    }
   }
  },
  {
   "cell_type": "code",
   "execution_count": 8,
   "outputs": [
    {
     "data": {
      "text/plain": "[10, 16, 24, 39, 47, 32, 89, 47, 76, 12]"
     },
     "execution_count": 8,
     "metadata": {},
     "output_type": "execute_result"
    }
   ],
   "source": [
    "# Listas concatenadas em Python\n",
    "lista1 + lista2"
   ],
   "metadata": {
    "collapsed": false,
    "ExecuteTime": {
     "end_time": "2024-10-02T03:58:45.868109800Z",
     "start_time": "2024-10-02T03:58:45.812027700Z"
    }
   }
  },
  {
   "cell_type": "code",
   "execution_count": null,
   "outputs": [],
   "source": [],
   "metadata": {
    "collapsed": false
   }
  }
 ],
 "metadata": {
  "kernelspec": {
   "display_name": "Python 3",
   "language": "python",
   "name": "python3"
  },
  "language_info": {
   "codemirror_mode": {
    "name": "ipython",
    "version": 2
   },
   "file_extension": ".py",
   "mimetype": "text/x-python",
   "name": "python",
   "nbconvert_exporter": "python",
   "pygments_lexer": "ipython2",
   "version": "2.7.6"
  }
 },
 "nbformat": 4,
 "nbformat_minor": 0
}
