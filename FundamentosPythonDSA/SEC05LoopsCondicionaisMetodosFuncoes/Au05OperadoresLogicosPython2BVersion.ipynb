{
 "cells": [
  {
   "cell_type": "code",
   "execution_count": 1,
   "metadata": {
    "collapsed": true,
    "ExecuteTime": {
     "end_time": "2024-09-27T04:54:19.681086600Z",
     "start_time": "2024-09-27T04:54:19.665462100Z"
    }
   },
   "outputs": [
    {
     "name": "stdout",
     "output_type": "stream",
     "text": [
      "Você foi REprovado em ds com média final 50\n"
     ]
    }
   ],
   "source": [
    "# Usando mais de uma condição na cláusica if e introduzindo Placeholders\n",
    "\n",
    "disciplina = \"ds\"\n",
    "nota_final = 50\n",
    "semestre = 2\n",
    "\n",
    "if disciplina == \"ds\" and nota_final >= 80 and semestre != 1:\n",
    "    print(\"Você foi aprovado em %s com média final %r\" %(disciplina, nota_final))\n",
    "else:\n",
    "    print(\"Você foi REprovado em %s com média final %r\" %(disciplina, nota_final))"
   ]
  },
  {
   "cell_type": "code",
   "execution_count": null,
   "outputs": [],
   "source": [],
   "metadata": {
    "collapsed": false
   }
  }
 ],
 "metadata": {
  "kernelspec": {
   "display_name": "Python 3",
   "language": "python",
   "name": "python3"
  },
  "language_info": {
   "codemirror_mode": {
    "name": "ipython",
    "version": 2
   },
   "file_extension": ".py",
   "mimetype": "text/x-python",
   "name": "python",
   "nbconvert_exporter": "python",
   "pygments_lexer": "ipython2",
   "version": "2.7.6"
  }
 },
 "nbformat": 4,
 "nbformat_minor": 0
}
