{
 "cells": [
  {
   "cell_type": "markdown",
   "source": [
    "## Métodos"
   ],
   "metadata": {
    "collapsed": false
   }
  },
  {
   "cell_type": "code",
   "execution_count": 1,
   "outputs": [],
   "source": [
    "# Criando uma lista\n",
    "lista = [100, -2, 12, 65, 0]"
   ],
   "metadata": {
    "collapsed": false,
    "ExecuteTime": {
     "end_time": "2024-10-03T04:04:00.850049300Z",
     "start_time": "2024-10-03T04:04:00.834425100Z"
    }
   }
  },
  {
   "cell_type": "code",
   "execution_count": 2,
   "outputs": [
    {
     "data": {
      "text/plain": "[100, -2, 12, 65, 0]"
     },
     "execution_count": 2,
     "metadata": {},
     "output_type": "execute_result"
    }
   ],
   "source": [
    "lista"
   ],
   "metadata": {
    "collapsed": false,
    "ExecuteTime": {
     "end_time": "2024-10-03T04:04:04.615563200Z",
     "start_time": "2024-10-03T04:04:04.615563200Z"
    }
   }
  },
  {
   "cell_type": "code",
   "execution_count": 3,
   "outputs": [
    {
     "data": {
      "text/plain": "5"
     },
     "execution_count": 3,
     "metadata": {},
     "output_type": "execute_result"
    }
   ],
   "source": [
    "len(lista)"
   ],
   "metadata": {
    "collapsed": false,
    "ExecuteTime": {
     "end_time": "2024-10-03T04:04:11.108634900Z",
     "start_time": "2024-10-03T04:04:11.093004300Z"
    }
   }
  },
  {
   "cell_type": "code",
   "execution_count": 4,
   "outputs": [
    {
     "name": "stdout",
     "output_type": "stream",
     "text": [
      "5\n",
      "5\n",
      "5\n",
      "5\n",
      "5\n"
     ]
    }
   ],
   "source": [
    "for i in lista:\n",
    "    print(len(lista))"
   ],
   "metadata": {
    "collapsed": false,
    "ExecuteTime": {
     "end_time": "2024-10-03T04:04:25.667819400Z",
     "start_time": "2024-10-03T04:04:25.656632700Z"
    }
   }
  },
  {
   "cell_type": "code",
   "execution_count": 6,
   "outputs": [
    {
     "name": "stdout",
     "output_type": "stream",
     "text": [
      "100\n",
      "-2\n",
      "12\n",
      "65\n",
      "0\n"
     ]
    }
   ],
   "source": [
    "for i in lista:\n",
    "    print(i)"
   ],
   "metadata": {
    "collapsed": false,
    "ExecuteTime": {
     "end_time": "2024-10-03T04:04:37.530233800Z",
     "start_time": "2024-10-03T04:04:37.514257800Z"
    }
   }
  },
  {
   "cell_type": "code",
   "execution_count": 8,
   "outputs": [
    {
     "name": "stdout",
     "output_type": "stream",
     "text": [
      "O item é 100\n",
      "O item é -2\n",
      "O item é 12\n",
      "O item é 65\n",
      "O item é 0\n"
     ]
    }
   ],
   "source": [
    "for i in lista:\n",
    "    print(\"O item é\", i)"
   ],
   "metadata": {
    "collapsed": false,
    "ExecuteTime": {
     "end_time": "2024-10-03T04:04:59.540444300Z",
     "start_time": "2024-10-03T04:04:59.524813Z"
    }
   }
  },
  {
   "cell_type": "code",
   "execution_count": 9,
   "outputs": [],
   "source": [
    "lista.append(100)"
   ],
   "metadata": {
    "collapsed": false,
    "ExecuteTime": {
     "end_time": "2024-10-03T04:05:14.175704600Z",
     "start_time": "2024-10-03T04:05:14.175704600Z"
    }
   }
  },
  {
   "cell_type": "code",
   "execution_count": 10,
   "outputs": [
    {
     "name": "stdout",
     "output_type": "stream",
     "text": [
      "[100, -2, 12, 65, 0, 100]\n"
     ]
    }
   ],
   "source": [
    "print(lista)"
   ],
   "metadata": {
    "collapsed": false,
    "ExecuteTime": {
     "end_time": "2024-10-03T04:05:17.014187700Z",
     "start_time": "2024-10-03T04:05:16.998559600Z"
    }
   }
  },
  {
   "cell_type": "code",
   "execution_count": 12,
   "outputs": [
    {
     "data": {
      "text/plain": "2"
     },
     "execution_count": 12,
     "metadata": {},
     "output_type": "execute_result"
    }
   ],
   "source": [
    "lista.count(100)"
   ],
   "metadata": {
    "collapsed": false,
    "ExecuteTime": {
     "end_time": "2024-10-03T04:05:28.298256300Z",
     "start_time": "2024-10-03T04:05:28.282631Z"
    }
   }
  },
  {
   "cell_type": "code",
   "execution_count": 13,
   "outputs": [],
   "source": [
    "texto1 = \"\"\"Chesed na Árvore do Ar\n",
    "Água em Ar regido por Júpiter\n",
    "Júpiter em Libra\n",
    "A alegria, o ardor interior do ser humano, criado através do trabalho e da atividade construtiva.\n",
    "\n",
    "Mental: Riqueza de fluidez.\n",
    "Anímico: Sentimentos seguros e profundos; união sem perturbação.\n",
    "Físico: Criação, organização com grande potencial, que permite a realização de qualquer empreendimento. Assuntos muito ricos em espiritualidade.\n",
    "(–): Desgosto, depressão, tristeza, sentimento que se empana e extingue.\n",
    "Interpretações usuais na Cartomancia\n",
    "Vigilância, retiro, solidão, repouso do ermitão, exílio, túmulo e féretro. Boa administração, circunspecção, economia, avareza, precaução, testamento.\n",
    "\n",
    "Indica solidão, retiro, ermida, segurança, vigilância, economia, boa conduta. Afastamento da vida social, em conseqüência de contrariedades e desgostos.\n",
    "Interpretações de Ocultistas e Tarólogos\n",
    "Arrien — Expansão Mental, Resolução. Compreensão mental de uma questão ou de um relacionamento, ou de algo que agora chega à plena resolução em todos os quatro níveis de consciência — mental, emocional, espiritual e físico.\n",
    "Cowie — A Resposta se Encontra no Seu Interior. Problemas que não devem ser ignorados. Se escutares teu interior saberás a resposta.\n",
    "Aleister Crowley — O Senhor da Trégua. Júpiter em Libra. A idéia de autoridade no mundo intelectual e, portanto, a imposição de dogma e lei sobre o mesmo. Representa um refúgio do caos mental, escolhido de maneira arbitrária. Pede por convenção, apaziguamento e conciliação de modo a promover a harmonia social.\n",
    "Eakins — Domínio. Um padrão estático após adquirir o domínio de uma tarefa difícil. Gozar de recompensas e sucessos por ter entendido a tarefa. Autoridade no mundo intelectual.\n",
    "Fairfield — Agirem Relação ao Que Pensa. Manifestar-se em público. Escrever. Agir em relação às idéias ou expressar uma filosofia pessoal.\n",
    "Greer — Estresse como um dado da saúde. Necessidade de cura. Doença. Um problema ou um dilema que está sendo trabalhado na mente ou nos sonhos. Afastamento. Descanso e recuperação. A necessidade de pedir auxilio profissional ou espiritual.\n",
    "Noble — A criação de um espaço mental protegido. A personalidade precisa de um tempo para se afastar, ficar só, e pensar sobre as coisas para curar e renovar-se.\n",
    "Pollack — Descanso, afastamento, recolhimento, seja para esconder ou para sarar. Ou um retorno ao mundo.\n",
    "Sharman-Burke — Um tempo de descanso e retiro após a luta: um tempo de quietude para pensar as coisas até o fim, por meio do alívio de tensão e de um relaxamento da ansiedade. Convalescência ou recuperação.\n",
    "Stewart — Trégua. O Ar Misericordioso e o Espírito da Compaixão. Uma pausa enquanto a força turbulenta, irresistível do Às de Espadas é contrabalançada. Consciência das potencialidades.\n",
    "Waite — Vigilância, afastamento, solidão, o descanso do eremita, exílio, túmulo e caixão. Uma carta ruim, mas se invertida pode-se ter um sucesso qualificado pela administração sábia dos negócios.\n",
    "Walker — Isolamento. Uma carta da percepção provocada pelo isolamento, como a percepção da sacerdotisa fatídica de Delfi. Às vezes, poderes de profecia invocados secretamente, o isolamento do exílio, o aprisionamento, a convalescência, isolamento voluntário, ou descanso e recuperação em meio à adversidade.\n",
    "Wanless — Lógica. Inteligência discernente, estrutura, integridade, pensamento e planejamento. Arrumar as coisas em um todo trabalhável, criando, assim, um sistema prático e construindo um fundamento sólido por meio da compreensão de como cada parte se relaciona com o todo. Reconhecer que há uma ordem em todos os fenômenos do universo.\n",
    "Riley — Descanso. Descanso e recreação. Dar um tempo. Às vezes, doença para recuperar. O intelecto abrindo mão de seu controle.\n",
    "Ver Também\n",
    "Arcanos Menores\n",
    "Árvore da Vida\n",
    "Ás de Espadas\n",
    "Dois de Espadas\n",
    "Três de Espadas\n",
    "Quatro de Espadas\n",
    "Cinco de Espadas\n",
    "Seis de Espadas\n",
    "Sete de Espadas\n",
    "Oito de Espadas\n",
    "Nove de Espadas\n",
    "Dez de Espadas\n",
    "Princesa de Espadas\n",
    "Cavaleiro de Espadas\n",
    "Rainha de Espadas\n",
    "Rei de Espadas\"\"\""
   ],
   "metadata": {
    "collapsed": false,
    "ExecuteTime": {
     "end_time": "2024-10-03T04:07:53.960902600Z",
     "start_time": "2024-10-03T04:07:53.947926300Z"
    }
   }
  },
  {
   "cell_type": "code",
   "execution_count": 14,
   "outputs": [
    {
     "data": {
      "text/plain": "15"
     },
     "execution_count": 14,
     "metadata": {},
     "output_type": "execute_result"
    }
   ],
   "source": [
    "texto1.count(\"Espadas\")"
   ],
   "metadata": {
    "collapsed": false,
    "ExecuteTime": {
     "end_time": "2024-10-03T04:08:08.592430100Z",
     "start_time": "2024-10-03T04:08:08.529924600Z"
    }
   }
  },
  {
   "cell_type": "code",
   "execution_count": 16,
   "outputs": [
    {
     "name": "stdout",
     "output_type": "stream",
     "text": [
      "Help on built-in function count:\n",
      "\n",
      "count(value, /) method of builtins.list instance\n",
      "    Return number of occurrences of value.\n",
      "\n"
     ]
    }
   ],
   "source": [
    "help(lista.count)"
   ],
   "metadata": {
    "collapsed": false,
    "ExecuteTime": {
     "end_time": "2024-10-03T04:08:46.008672400Z",
     "start_time": "2024-10-03T04:08:45.993043500Z"
    }
   }
  },
  {
   "cell_type": "code",
   "execution_count": 17,
   "outputs": [
    {
     "data": {
      "text/plain": "['__add__',\n '__class__',\n '__class_getitem__',\n '__contains__',\n '__delattr__',\n '__delitem__',\n '__dir__',\n '__doc__',\n '__eq__',\n '__format__',\n '__ge__',\n '__getattribute__',\n '__getitem__',\n '__gt__',\n '__hash__',\n '__iadd__',\n '__imul__',\n '__init__',\n '__init_subclass__',\n '__iter__',\n '__le__',\n '__len__',\n '__lt__',\n '__mul__',\n '__ne__',\n '__new__',\n '__reduce__',\n '__reduce_ex__',\n '__repr__',\n '__reversed__',\n '__rmul__',\n '__setattr__',\n '__setitem__',\n '__sizeof__',\n '__str__',\n '__subclasshook__',\n 'append',\n 'clear',\n 'copy',\n 'count',\n 'extend',\n 'index',\n 'insert',\n 'pop',\n 'remove',\n 'reverse',\n 'sort']"
     },
     "execution_count": 17,
     "metadata": {},
     "output_type": "execute_result"
    }
   ],
   "source": [
    "dir(lista)"
   ],
   "metadata": {
    "collapsed": false,
    "ExecuteTime": {
     "end_time": "2024-10-03T04:09:19.465346Z",
     "start_time": "2024-10-03T04:09:19.449718900Z"
    }
   }
  },
  {
   "cell_type": "code",
   "execution_count": 18,
   "outputs": [
    {
     "data": {
      "text/plain": "list"
     },
     "execution_count": 18,
     "metadata": {},
     "output_type": "execute_result"
    }
   ],
   "source": [
    "type(lista)"
   ],
   "metadata": {
    "collapsed": false,
    "ExecuteTime": {
     "end_time": "2024-10-03T04:09:26.804049Z",
     "start_time": "2024-10-03T04:09:26.788425300Z"
    }
   }
  },
  {
   "cell_type": "code",
   "execution_count": 19,
   "outputs": [
    {
     "data": {
      "text/plain": "str"
     },
     "execution_count": 19,
     "metadata": {},
     "output_type": "execute_result"
    }
   ],
   "source": [
    "type(texto1)"
   ],
   "metadata": {
    "collapsed": false,
    "ExecuteTime": {
     "end_time": "2024-10-03T04:09:30.322454600Z",
     "start_time": "2024-10-03T04:09:30.306827400Z"
    }
   }
  },
  {
   "cell_type": "code",
   "execution_count": null,
   "outputs": [],
   "source": [],
   "metadata": {
    "collapsed": false
   }
  }
 ],
 "metadata": {
  "kernelspec": {
   "display_name": "Python 3",
   "language": "python",
   "name": "python3"
  },
  "language_info": {
   "codemirror_mode": {
    "name": "ipython",
    "version": 2
   },
   "file_extension": ".py",
   "mimetype": "text/x-python",
   "name": "python",
   "nbconvert_exporter": "python",
   "pygments_lexer": "ipython2",
   "version": "2.7.6"
  }
 },
 "nbformat": 4,
 "nbformat_minor": 0
}
