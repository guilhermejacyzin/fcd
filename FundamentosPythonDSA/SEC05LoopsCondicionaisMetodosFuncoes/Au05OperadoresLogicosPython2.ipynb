{
 "cells": [
  {
   "cell_type": "markdown",
   "source": [
    "## Operadores Lógicos em Python"
   ],
   "metadata": {
    "collapsed": false
   }
  },
  {
   "cell_type": "code",
   "execution_count": 1,
   "outputs": [
    {
     "name": "stdout",
     "output_type": "stream",
     "text": [
      "Lamento, você precisa estudar mais\n"
     ]
    }
   ],
   "source": [
    "# Usando mais uma condição da cláusula if\n",
    "\n",
    "disciplina = \"DS\"\n",
    "nota_final = 60\n",
    "\n",
    "if disciplina == \"DS\" and nota_final >= 70:\n",
    "    print(\"você foi aprovado\")\n",
    "else:\n",
    "    print(\"Lamento, você precisa estudar mais\")"
   ],
   "metadata": {
    "collapsed": false,
    "ExecuteTime": {
     "end_time": "2024-09-27T04:47:24.718132900Z",
     "start_time": "2024-09-27T04:47:24.702508900Z"
    }
   }
  },
  {
   "cell_type": "code",
   "execution_count": 3,
   "outputs": [
    {
     "name": "stdout",
     "output_type": "stream",
     "text": [
      "Você foi aprovado em ds com média final 90\n"
     ]
    }
   ],
   "source": [
    "# Usando mais de uma condição na cláusica if e introduzindo Placeholders\n",
    "\n",
    "disciplina = \"ds\"\n",
    "nota_final = 90\n",
    "semestre = 2\n",
    "\n",
    "if disciplina == \"ds\" and nota_final >= 80 and semestre != 1:\n",
    "    print(\"Você foi aprovado em %s com média final %r\" %(disciplina, nota_final))\n",
    "else:\n",
    "    print(\"Você foi REprovado em %s com média final %r\" %(disciplina, nota_final))"
   ],
   "metadata": {
    "collapsed": false,
    "ExecuteTime": {
     "end_time": "2024-09-27T04:50:21.979168800Z",
     "start_time": "2024-09-27T04:50:21.964840800Z"
    }
   }
  },
  {
   "cell_type": "code",
   "execution_count": null,
   "outputs": [],
   "source": [],
   "metadata": {
    "collapsed": false
   }
  }
 ],
 "metadata": {
  "kernelspec": {
   "display_name": "Python 3",
   "language": "python",
   "name": "python3"
  },
  "language_info": {
   "codemirror_mode": {
    "name": "ipython",
    "version": 2
   },
   "file_extension": ".py",
   "mimetype": "text/x-python",
   "name": "python",
   "nbconvert_exporter": "python",
   "pygments_lexer": "ipython2",
   "version": "2.7.6"
  }
 },
 "nbformat": 4,
 "nbformat_minor": 0
}
