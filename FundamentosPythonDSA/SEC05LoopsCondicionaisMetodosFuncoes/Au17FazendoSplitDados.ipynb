{
 "cells": [
  {
   "cell_type": "markdown",
   "source": [
    "## Fazendo Split de Dados em Python"
   ],
   "metadata": {
    "collapsed": false
   }
  },
  {
   "cell_type": "code",
   "execution_count": 3,
   "outputs": [],
   "source": [
    "# Fazendo split dos dados\n",
    "\n",
    "def split_string_palavras(text):\n",
    "    return text.split(\" \")"
   ],
   "metadata": {
    "collapsed": false,
    "ExecuteTime": {
     "end_time": "2024-10-09T05:00:53.305271300Z",
     "start_time": "2024-10-09T05:00:53.289648100Z"
    }
   }
  },
  {
   "cell_type": "code",
   "execution_count": 4,
   "outputs": [],
   "source": [
    "texto = \"My name is Gui ohoohohohohoho\""
   ],
   "metadata": {
    "collapsed": false,
    "ExecuteTime": {
     "end_time": "2024-10-09T05:01:06.152458600Z",
     "start_time": "2024-10-09T05:01:06.124172500Z"
    }
   }
  },
  {
   "cell_type": "code",
   "execution_count": 5,
   "outputs": [
    {
     "name": "stdout",
     "output_type": "stream",
     "text": [
      "['My', 'name', 'is', 'Gui', 'ohoohohohohoho']\n"
     ]
    }
   ],
   "source": [
    "print(split_string_palavras(texto))"
   ],
   "metadata": {
    "collapsed": false,
    "ExecuteTime": {
     "end_time": "2024-10-09T05:01:23.013656600Z",
     "start_time": "2024-10-09T05:01:22.923866900Z"
    }
   }
  },
  {
   "cell_type": "code",
   "execution_count": 6,
   "outputs": [
    {
     "name": "stdout",
     "output_type": "stream",
     "text": [
      "['My', 'name', 'is', 'Gui', 'ohoohohohohoho']\n"
     ]
    }
   ],
   "source": [
    "token = print(split_string_palavras(texto))\n"
   ],
   "metadata": {
    "collapsed": false,
    "ExecuteTime": {
     "end_time": "2024-10-09T05:47:56.463100200Z",
     "start_time": "2024-10-09T05:47:56.452101900Z"
    }
   }
  },
  {
   "cell_type": "code",
   "execution_count": 7,
   "outputs": [],
   "source": [
    "token"
   ],
   "metadata": {
    "collapsed": false,
    "ExecuteTime": {
     "end_time": "2024-10-09T05:47:58.363022600Z",
     "start_time": "2024-10-09T05:47:58.358022400Z"
    }
   }
  },
  {
   "cell_type": "code",
   "execution_count": 8,
   "outputs": [],
   "source": [
    "# Fazendo Split dos dados\n",
    "\n",
    "def split_string_letras(text):\n",
    "    texto = text.upper()\n",
    "    for letra in texto:\n",
    "        print(letra)"
   ],
   "metadata": {
    "collapsed": false,
    "ExecuteTime": {
     "end_time": "2024-10-09T05:48:46.632440700Z",
     "start_time": "2024-10-09T05:48:46.617441800Z"
    }
   }
  },
  {
   "cell_type": "code",
   "execution_count": 9,
   "outputs": [
    {
     "name": "stdout",
     "output_type": "stream",
     "text": [
      "M\n",
      "Y\n",
      " \n",
      "N\n",
      "A\n",
      "M\n",
      "E\n",
      " \n",
      "I\n",
      "S\n",
      " \n",
      "G\n",
      "U\n",
      "I\n",
      " \n",
      "O\n",
      "H\n",
      "O\n",
      "O\n",
      "H\n",
      "O\n",
      "H\n",
      "O\n",
      "H\n",
      "O\n",
      "H\n",
      "O\n",
      "H\n",
      "O\n"
     ]
    }
   ],
   "source": [
    "split_string_letras(texto)"
   ],
   "metadata": {
    "collapsed": false,
    "ExecuteTime": {
     "end_time": "2024-10-09T05:48:57.774841300Z",
     "start_time": "2024-10-09T05:48:57.722844Z"
    }
   }
  },
  {
   "cell_type": "code",
   "execution_count": null,
   "outputs": [],
   "source": [],
   "metadata": {
    "collapsed": false
   }
  }
 ],
 "metadata": {
  "kernelspec": {
   "display_name": "Python 3",
   "language": "python",
   "name": "python3"
  },
  "language_info": {
   "codemirror_mode": {
    "name": "ipython",
    "version": 2
   },
   "file_extension": ".py",
   "mimetype": "text/x-python",
   "name": "python",
   "nbconvert_exporter": "python",
   "pygments_lexer": "ipython2",
   "version": "2.7.6"
  }
 },
 "nbformat": 4,
 "nbformat_minor": 0
}
