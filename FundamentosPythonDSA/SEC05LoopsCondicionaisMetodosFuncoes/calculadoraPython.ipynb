{
 "cells": [
  {
   "cell_type": "code",
   "execution_count": 34,
   "metadata": {
    "collapsed": true,
    "ExecuteTime": {
     "end_time": "2024-10-10T04:44:59.853174100Z",
     "start_time": "2024-10-10T04:44:59.853174100Z"
    }
   },
   "outputs": [
    {
     "name": "stdout",
     "output_type": "stream",
     "text": [
      "Por favor, escolha o número da operação desejada: \n",
      "1 - Soma \n",
      "2 - Subtração \n",
      "3 - Multiplicação \n",
      "4 - Divisão \n",
      "5 - Potência \n",
      "\n"
     ]
    }
   ],
   "source": [
    "print(\"Por favor, escolha o número da operação desejada: \")\n",
    "\n",
    "print(\"1 - Soma \\n\"\n",
    "      \"2 - Subtração \\n\"\n",
    "      \"3 - Multiplicação \\n\"\n",
    "      \"4 - Divisão \\n\"\n",
    "      \"5 - Potência \\n\")"
   ]
  },
  {
   "cell_type": "code",
   "execution_count": 35,
   "outputs": [],
   "source": [
    "operador = int(input(\"Digite: \"))"
   ],
   "metadata": {
    "collapsed": false,
    "ExecuteTime": {
     "end_time": "2024-10-10T04:45:02.357581500Z",
     "start_time": "2024-10-10T04:44:59.853174100Z"
    }
   }
  },
  {
   "cell_type": "code",
   "execution_count": 36,
   "outputs": [],
   "source": [
    "primeiroNumero = int(input(\"Agora digite o primeiro número: \"))"
   ],
   "metadata": {
    "collapsed": false,
    "ExecuteTime": {
     "end_time": "2024-10-10T04:45:05.175807300Z",
     "start_time": "2024-10-10T04:45:02.349093200Z"
    }
   }
  },
  {
   "cell_type": "code",
   "execution_count": 37,
   "outputs": [],
   "source": [
    "segundoNumero  = int(input(\"Agora digite o segundo número: \"))"
   ],
   "metadata": {
    "collapsed": false,
    "ExecuteTime": {
     "end_time": "2024-10-10T04:45:05.847686500Z",
     "start_time": "2024-10-10T04:45:05.160176800Z"
    }
   }
  },
  {
   "cell_type": "code",
   "execution_count": 38,
   "outputs": [
    {
     "name": "stdout",
     "output_type": "stream",
     "text": [
      "4\n"
     ]
    }
   ],
   "source": [
    "if operador == 1:\n",
    "      soma = primeiroNumero + segundoNumero\n",
    "      print(soma)\n",
    "elif operador == 2:\n",
    "      subtracao = primeiroNumero - segundoNumero\n",
    "      print(subtracao)\n",
    "elif operador == 3:\n",
    "      multiplicacao = primeiroNumero * segundoNumero\n",
    "      print(multiplicacao)\n",
    "elif operador == 4:\n",
    "      divisao = primeiroNumero / segundoNumero\n",
    "      print(divisao)\n",
    "elif operador == 5:\n",
    "      potencia = primeiroNumero ** segundoNumero\n",
    "      print(potencia)\n",
    "else:\n",
    "      print(\"Registro inválido. Tente novamente!\")"
   ],
   "metadata": {
    "collapsed": false,
    "ExecuteTime": {
     "end_time": "2024-10-10T04:45:05.880324500Z",
     "start_time": "2024-10-10T04:45:05.847686500Z"
    }
   }
  },
  {
   "cell_type": "code",
   "execution_count": 38,
   "outputs": [],
   "source": [],
   "metadata": {
    "collapsed": false,
    "ExecuteTime": {
     "end_time": "2024-10-10T04:45:05.911573400Z",
     "start_time": "2024-10-10T04:45:05.880324500Z"
    }
   }
  }
 ],
 "metadata": {
  "kernelspec": {
   "display_name": "Python 3",
   "language": "python",
   "name": "python3"
  },
  "language_info": {
   "codemirror_mode": {
    "name": "ipython",
    "version": 2
   },
   "file_extension": ".py",
   "mimetype": "text/x-python",
   "name": "python",
   "nbconvert_exporter": "python",
   "pygments_lexer": "ipython2",
   "version": "2.7.6"
  }
 },
 "nbformat": 4,
 "nbformat_minor": 0
}
