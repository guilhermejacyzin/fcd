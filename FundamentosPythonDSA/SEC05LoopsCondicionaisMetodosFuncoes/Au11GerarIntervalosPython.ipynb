{
 "cells": [
  {
   "cell_type": "markdown",
   "source": [
    "## Gerando Intevalos de Valores em Python"
   ],
   "metadata": {
    "collapsed": false
   }
  },
  {
   "cell_type": "code",
   "execution_count": 1,
   "outputs": [
    {
     "name": "stdout",
     "output_type": "stream",
     "text": [
      "0\n",
      "1\n",
      "2\n",
      "3\n",
      "4\n",
      "5\n",
      "6\n",
      "7\n",
      "8\n",
      "9\n",
      "10\n"
     ]
    }
   ],
   "source": [
    "# Função Range de 1 a 10\n",
    "\n",
    "for i in range(0,11):\n",
    "    print(i)"
   ],
   "metadata": {
    "collapsed": false,
    "ExecuteTime": {
     "end_time": "2024-10-03T03:53:12.477314700Z",
     "start_time": "2024-10-03T03:53:12.461688500Z"
    }
   }
  },
  {
   "cell_type": "code",
   "execution_count": 3,
   "outputs": [
    {
     "name": "stdout",
     "output_type": "stream",
     "text": [
      "50\n",
      "52\n",
      "54\n",
      "56\n",
      "58\n",
      "60\n",
      "62\n",
      "64\n",
      "66\n",
      "68\n",
      "70\n",
      "72\n",
      "74\n",
      "76\n",
      "78\n",
      "80\n",
      "82\n",
      "84\n",
      "86\n",
      "88\n",
      "90\n",
      "92\n",
      "94\n",
      "96\n",
      "98\n",
      "100\n"
     ]
    }
   ],
   "source": [
    "# Definindo o salto\n",
    "for i in range(50, 101, 2):\n",
    "    print(i)"
   ],
   "metadata": {
    "collapsed": false,
    "ExecuteTime": {
     "end_time": "2024-10-03T03:53:55.342841700Z",
     "start_time": "2024-10-03T03:53:55.339127800Z"
    }
   }
  },
  {
   "cell_type": "code",
   "execution_count": 4,
   "outputs": [
    {
     "name": "stdout",
     "output_type": "stream",
     "text": [
      "0\n",
      "-2\n",
      "-4\n",
      "-6\n",
      "-8\n",
      "-10\n",
      "-12\n",
      "-14\n",
      "-16\n",
      "-18\n"
     ]
    }
   ],
   "source": [
    "# Imprimindo negativos\n",
    "for i in range(0, -20, -2):\n",
    "    print(i)"
   ],
   "metadata": {
    "collapsed": false,
    "ExecuteTime": {
     "end_time": "2024-10-03T03:54:26.487216600Z",
     "start_time": "2024-10-03T03:54:26.471591300Z"
    }
   }
  },
  {
   "cell_type": "code",
   "execution_count": 6,
   "outputs": [
    {
     "name": "stdout",
     "output_type": "stream",
     "text": [
      "0\n",
      "abacaxi\n",
      "1\n",
      "carro\n",
      "2\n",
      "zoa\n",
      "3\n",
      "var\n"
     ]
    }
   ],
   "source": [
    "# Usando o tamanho de uma lista na função range()\n",
    "lista = [\"abacaxi\", \"carro\", \"zoa\", \"var\"]\n",
    "\n",
    "lista_tamanho = len(lista)\n",
    "for i in range(0, lista_tamanho):\n",
    "    print(i)\n",
    "    print(lista[i])"
   ],
   "metadata": {
    "collapsed": false,
    "ExecuteTime": {
     "end_time": "2024-10-03T03:56:20.118414Z",
     "start_time": "2024-10-03T03:56:20.102795600Z"
    }
   }
  },
  {
   "cell_type": "code",
   "execution_count": null,
   "outputs": [],
   "source": [],
   "metadata": {
    "collapsed": false
   }
  }
 ],
 "metadata": {
  "kernelspec": {
   "display_name": "Python 3",
   "language": "python",
   "name": "python3"
  },
  "language_info": {
   "codemirror_mode": {
    "name": "ipython",
    "version": 2
   },
   "file_extension": ".py",
   "mimetype": "text/x-python",
   "name": "python",
   "nbconvert_exporter": "python",
   "pygments_lexer": "ipython2",
   "version": "2.7.6"
  }
 },
 "nbformat": 4,
 "nbformat_minor": 0
}
