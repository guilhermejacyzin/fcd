{
 "cells": [
  {
   "cell_type": "markdown",
   "source": [
    "## List Comprehension"
   ],
   "metadata": {
    "collapsed": false
   }
  },
  {
   "cell_type": "code",
   "execution_count": 20,
   "outputs": [
    {
     "data": {
      "text/plain": "[0, 1, 2, 3, 4, 5, 6, 7, 8, 9]"
     },
     "execution_count": 20,
     "metadata": {},
     "output_type": "execute_result"
    }
   ],
   "source": [
    "# List comprehension que imprime os números até 10\n",
    "\n",
    "[x for x in range(10)] # Para cada valor de x retorne x em um range de 10 elementos"
   ],
   "metadata": {
    "collapsed": false,
    "ExecuteTime": {
     "end_time": "2024-10-10T04:25:18.878076500Z",
     "start_time": "2024-10-10T04:25:18.862449500Z"
    }
   }
  },
  {
   "cell_type": "code",
   "execution_count": 21,
   "outputs": [],
   "source": [
    "# List comprehension que imprime os números até 10 e rava em uma lista Python\n",
    "lista_numeros = [x for x in range(10) if x < 5]"
   ],
   "metadata": {
    "collapsed": false,
    "ExecuteTime": {
     "end_time": "2024-10-10T04:25:18.913478800Z",
     "start_time": "2024-10-10T04:25:18.878076500Z"
    }
   }
  },
  {
   "cell_type": "code",
   "execution_count": 22,
   "outputs": [
    {
     "name": "stdout",
     "output_type": "stream",
     "text": [
      "[0, 1, 2, 3, 4]\n"
     ]
    }
   ],
   "source": [
    "print(lista_numeros)"
   ],
   "metadata": {
    "collapsed": false,
    "ExecuteTime": {
     "end_time": "2024-10-10T04:25:18.913478800Z",
     "start_time": "2024-10-10T04:25:18.893702200Z"
    }
   }
  },
  {
   "cell_type": "code",
   "execution_count": 23,
   "outputs": [],
   "source": [
    "# Lista de frutas\n",
    "lista_frutas = ['banana', 'abacate', 'melancia', 'cereja', 'manga']\n",
    "\n",
    "# nova lista\n",
    "nova_lista = []"
   ],
   "metadata": {
    "collapsed": false,
    "ExecuteTime": {
     "end_time": "2024-10-10T04:25:18.913478800Z",
     "start_time": "2024-10-10T04:25:18.897849Z"
    }
   }
  },
  {
   "cell_type": "code",
   "execution_count": 24,
   "outputs": [
    {
     "name": "stdout",
     "output_type": "stream",
     "text": [
      "['melancia', 'manga']\n"
     ]
    },
    {
     "data": {
      "text/plain": "'\\npara cada x in lista_frutas:\\n    se \"m\" in x:\\n        nova_lista recebe x\\nimprime nova lista\\n'"
     },
     "execution_count": 24,
     "metadata": {},
     "output_type": "execute_result"
    }
   ],
   "source": [
    "# Loop tradicional para buscar as palavras com a letra \"m\"\n",
    "for x in lista_frutas:\n",
    "    if \"m\" in x:\n",
    "        nova_lista.append(x)\n",
    "\n",
    "print(nova_lista)\n",
    "\n",
    "\"\"\"\n",
    "para cada x in lista_frutas:\n",
    "    se \"m\" in x:\n",
    "        nova_lista recebe x\n",
    "imprime nova lista\n",
    "\"\"\""
   ],
   "metadata": {
    "collapsed": false,
    "ExecuteTime": {
     "end_time": "2024-10-10T04:25:18.929104200Z",
     "start_time": "2024-10-10T04:25:18.913478800Z"
    }
   }
  },
  {
   "cell_type": "code",
   "execution_count": 25,
   "outputs": [],
   "source": [
    "lista_nomes = [\"Zita\", \"Rubens\", \"Dinha\", \"Nina\", \"Beia\", \"Tana\", \"Vera\", \"Guilherme\", \"Gisele\", \"Dinho\", \"Jeniffer\", \"Alan\", \"Felipe\", \"Ana\"]"
   ],
   "metadata": {
    "collapsed": false,
    "ExecuteTime": {
     "end_time": "2024-10-10T04:25:18.975981900Z",
     "start_time": "2024-10-10T04:25:18.929104200Z"
    }
   }
  },
  {
   "cell_type": "code",
   "execution_count": 26,
   "outputs": [
    {
     "data": {
      "text/plain": "['Zita',\n 'Rubens',\n 'Dinha',\n 'Nina',\n 'Beia',\n 'Tana',\n 'Vera',\n 'Guilherme',\n 'Gisele',\n 'Dinho',\n 'Jeniffer',\n 'Alan',\n 'Felipe',\n 'Ana']"
     },
     "execution_count": 26,
     "metadata": {},
     "output_type": "execute_result"
    }
   ],
   "source": [
    "lista_nomes"
   ],
   "metadata": {
    "collapsed": false,
    "ExecuteTime": {
     "end_time": "2024-10-10T04:25:18.975981900Z",
     "start_time": "2024-10-10T04:25:18.944728500Z"
    }
   }
  },
  {
   "cell_type": "code",
   "execution_count": 27,
   "outputs": [],
   "source": [
    "lista_nova_nomes = []"
   ],
   "metadata": {
    "collapsed": false,
    "ExecuteTime": {
     "end_time": "2024-10-10T04:25:18.975981900Z",
     "start_time": "2024-10-10T04:25:18.960355200Z"
    }
   }
  },
  {
   "cell_type": "code",
   "execution_count": 28,
   "outputs": [
    {
     "name": "stdout",
     "output_type": "stream",
     "text": [
      "['Dinha', 'Dinho']\n"
     ]
    }
   ],
   "source": [
    "# Loop tradicional para buscar nomes com 'D'\n",
    "\"\"\"\n",
    "para cada x in lista_frutas:\n",
    "    se \"m\" in x:\n",
    "        nova_lista recebe x\n",
    "imprime nova lista\n",
    "\"\"\"\n",
    "\n",
    "for x in lista_nomes:\n",
    "    if 'D' in x:\n",
    "        lista_nova_nomes.append(x)\n",
    "print(lista_nova_nomes)"
   ],
   "metadata": {
    "collapsed": false,
    "ExecuteTime": {
     "end_time": "2024-10-10T04:25:18.991603400Z",
     "start_time": "2024-10-10T04:25:18.975981900Z"
    }
   }
  },
  {
   "cell_type": "code",
   "execution_count": 29,
   "outputs": [
    {
     "name": "stdout",
     "output_type": "stream",
     "text": [
      "['melancia', 'manga']\n"
     ]
    }
   ],
   "source": [
    "# Mesmo resultado com List Comprehension\n",
    "nova_lista = [x for x in lista_frutas if \"m\" in x]\n",
    "print(nova_lista)"
   ],
   "metadata": {
    "collapsed": false,
    "ExecuteTime": {
     "end_time": "2024-10-10T04:27:04.672993300Z",
     "start_time": "2024-10-10T04:27:04.657367100Z"
    }
   }
  },
  {
   "cell_type": "code",
   "execution_count": 30,
   "outputs": [],
   "source": [
    "# Dict Comprehension\n",
    "\n",
    "# Dicionário de alunos e notas\n",
    "\n",
    "dict_alunos = {\"Zita\":68, \"Rubens\": 84, \"Dinha\": 57, \"Nina\": 93}"
   ],
   "metadata": {
    "collapsed": false,
    "ExecuteTime": {
     "end_time": "2024-10-10T04:28:43.525983200Z",
     "start_time": "2024-10-10T04:28:43.510356600Z"
    }
   }
  },
  {
   "cell_type": "code",
   "execution_count": 31,
   "outputs": [
    {
     "data": {
      "text/plain": "{'Zita': 68, 'Rubens': 84, 'Dinha': 57, 'Nina': 93}"
     },
     "execution_count": 31,
     "metadata": {},
     "output_type": "execute_result"
    }
   ],
   "source": [
    "dict_alunos"
   ],
   "metadata": {
    "collapsed": false,
    "ExecuteTime": {
     "end_time": "2024-10-10T04:28:46.565366800Z",
     "start_time": "2024-10-10T04:28:46.549742800Z"
    }
   }
  },
  {
   "cell_type": "code",
   "execution_count": 32,
   "outputs": [
    {
     "name": "stdout",
     "output_type": "stream",
     "text": [
      "{'Zita': 'Reprovado', 'Rubens': 'Aprovado', 'Dinha': 'Reprovado', 'Nina': 'Aprovado'}\n"
     ]
    }
   ],
   "source": [
    "# Criamos um novo dicionário com status maior que 70 aprovado, se não, reprovado\n",
    "dict_alunos = {k:(\"Aprovado\" if v > 70 else \"Reprovado\") for (k, v) in dict_alunos.items()}\n",
    "print(dict_alunos)"
   ],
   "metadata": {
    "collapsed": false,
    "ExecuteTime": {
     "end_time": "2024-10-10T04:30:33.439969Z",
     "start_time": "2024-10-10T04:30:33.439969Z"
    }
   }
  },
  {
   "cell_type": "code",
   "execution_count": null,
   "outputs": [],
   "source": [],
   "metadata": {
    "collapsed": false
   }
  }
 ],
 "metadata": {
  "kernelspec": {
   "display_name": "Python 3",
   "language": "python",
   "name": "python3"
  },
  "language_info": {
   "codemirror_mode": {
    "name": "ipython",
    "version": 2
   },
   "file_extension": ".py",
   "mimetype": "text/x-python",
   "name": "python",
   "nbconvert_exporter": "python",
   "pygments_lexer": "ipython2",
   "version": "2.7.6"
  }
 },
 "nbformat": 4,
 "nbformat_minor": 0
}
