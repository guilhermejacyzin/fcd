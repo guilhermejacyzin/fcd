{
 "cells": [
  {
   "cell_type": "markdown",
   "source": [
    "# Calculadora Simples de operações"
   ],
   "metadata": {
    "collapsed": false
   }
  },
  {
   "cell_type": "code",
   "execution_count": 18,
   "outputs": [
    {
     "name": "stdout",
     "output_type": "stream",
     "text": [
      "Boas vindas à Calculadora\n"
     ]
    }
   ],
   "source": [
    "print(\"Boas vindas à Calculadora\")"
   ],
   "metadata": {
    "collapsed": false,
    "ExecuteTime": {
     "end_time": "2024-07-31T22:58:26.278325Z",
     "start_time": "2024-07-31T22:58:26.271321700Z"
    }
   }
  },
  {
   "cell_type": "code",
   "execution_count": 19,
   "outputs": [],
   "source": [
    "numUm = float(input(\"Digite o primeiro número da operação: \"))"
   ],
   "metadata": {
    "collapsed": false,
    "ExecuteTime": {
     "end_time": "2024-07-31T22:58:31.859405Z",
     "start_time": "2024-07-31T22:58:26.278325Z"
    }
   }
  },
  {
   "cell_type": "code",
   "execution_count": 20,
   "outputs": [],
   "source": [
    "numDois = float(input(\"Digite o segundo número da operação: \"))"
   ],
   "metadata": {
    "collapsed": false,
    "ExecuteTime": {
     "end_time": "2024-07-31T22:58:33.244315Z",
     "start_time": "2024-07-31T22:58:31.832351900Z"
    }
   }
  },
  {
   "cell_type": "code",
   "execution_count": 21,
   "outputs": [],
   "source": [
    "operacao = str(input(\"Digite o número da operação: (1) soma | (2) subtração | (3) divisão | (4) multiplicação\"))"
   ],
   "metadata": {
    "collapsed": false,
    "ExecuteTime": {
     "end_time": "2024-07-31T22:58:36.792192500Z",
     "start_time": "2024-07-31T22:58:33.246324400Z"
    }
   }
  },
  {
   "cell_type": "code",
   "execution_count": 22,
   "outputs": [
    {
     "name": "stdout",
     "output_type": "stream",
     "text": [
      "O resultado é:  4.5\n"
     ]
    }
   ],
   "source": [
    "if operacao == \"1\":\n",
    "    resultado = numUm + numDois\n",
    "    print(\"O resultado é: \", resultado)\n",
    "elif operacao == \"2\":\n",
    "    resultado = numUm - numDois\n",
    "    print(\"O resultado é: \", resultado)\n",
    "elif operacao == \"3\":\n",
    "    resultado = numUm / numDois\n",
    "    print(\"O resultado é: \", resultado)\n",
    "else:\n",
    "    resultado = numUm * numDois\n",
    "    print(\"O resultado é: \", resultado)"
   ],
   "metadata": {
    "collapsed": false,
    "ExecuteTime": {
     "end_time": "2024-07-31T22:58:36.807603200Z",
     "start_time": "2024-07-31T22:58:36.795198900Z"
    }
   }
  },
  {
   "cell_type": "code",
   "execution_count": 22,
   "outputs": [],
   "source": [],
   "metadata": {
    "collapsed": false,
    "ExecuteTime": {
     "end_time": "2024-07-31T22:58:36.851842100Z",
     "start_time": "2024-07-31T22:58:36.807603200Z"
    }
   }
  }
 ],
 "metadata": {
  "kernelspec": {
   "display_name": "Python 3",
   "language": "python",
   "name": "python3"
  },
  "language_info": {
   "codemirror_mode": {
    "name": "ipython",
    "version": 2
   },
   "file_extension": ".py",
   "mimetype": "text/x-python",
   "name": "python",
   "nbconvert_exporter": "python",
   "pygments_lexer": "ipython2",
   "version": "2.7.6"
  }
 },
 "nbformat": 4,
 "nbformat_minor": 0
}
