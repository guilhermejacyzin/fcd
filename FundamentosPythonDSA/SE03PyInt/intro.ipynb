{
 "cells": [
  {
   "cell_type": "code",
   "execution_count": 22,
   "outputs": [
    {
     "data": {
      "text/plain": "'\\nPeça para o usuário inserir o comprimento da base\\nArmazene o comprimento da base em uma variável\\nPeça para o usuário inserir altura\\nArmazene a altura em uma variável\\nCalcule a área do paralelogramo: base * altura\\nArmazene o resultado em uma variável\\nExiba o resultado\\nFim\\n'"
     },
     "execution_count": 22,
     "metadata": {},
     "output_type": "execute_result"
    }
   ],
   "source": [
    "\"\"\"\n",
    "Peça para o usuário inserir o comprimento da base\n",
    "Armazene o comprimento da base em uma variável\n",
    "Peça para o usuário inserir altura\n",
    "Armazene a altura em uma variável\n",
    "Calcule a área do paralelogramo: base * altura\n",
    "Armazene o resultado em uma variável\n",
    "Exiba o resultado\n",
    "Fim\n",
    "\"\"\""
   ],
   "metadata": {
    "collapsed": false,
    "ExecuteTime": {
     "end_time": "2024-07-31T22:38:32.052274800Z",
     "start_time": "2024-07-31T22:38:32.042632100Z"
    }
   }
  },
  {
   "cell_type": "code",
   "execution_count": 23,
   "outputs": [
    {
     "name": "stdout",
     "output_type": "stream",
     "text": [
      "Bem vindo ao Calculador de Área do Paralelogramo\n"
     ]
    }
   ],
   "source": [
    "print(\"Bem vindo ao Calculador de Área do Paralelogramo\")"
   ],
   "metadata": {
    "collapsed": false,
    "ExecuteTime": {
     "end_time": "2024-07-31T22:38:32.075276200Z",
     "start_time": "2024-07-31T22:38:32.053279200Z"
    }
   }
  },
  {
   "cell_type": "code",
   "execution_count": 24,
   "outputs": [],
   "source": [
    "base = float(input(\"Insira o comprimento da base\"))"
   ],
   "metadata": {
    "collapsed": false,
    "ExecuteTime": {
     "end_time": "2024-07-31T22:38:33.621797400Z",
     "start_time": "2024-07-31T22:38:32.069273600Z"
    }
   }
  },
  {
   "cell_type": "code",
   "execution_count": 25,
   "outputs": [],
   "source": [
    "altura = float(input(\"Agora insira a altura\"))"
   ],
   "metadata": {
    "collapsed": false,
    "ExecuteTime": {
     "end_time": "2024-07-31T22:38:34.890627200Z",
     "start_time": "2024-07-31T22:38:33.620796500Z"
    }
   }
  },
  {
   "cell_type": "code",
   "execution_count": 26,
   "outputs": [],
   "source": [
    "areaParalelogramo = base * altura"
   ],
   "metadata": {
    "collapsed": false,
    "ExecuteTime": {
     "end_time": "2024-07-31T22:38:34.897627800Z",
     "start_time": "2024-07-31T22:38:34.880094400Z"
    }
   }
  },
  {
   "cell_type": "code",
   "execution_count": 27,
   "outputs": [
    {
     "name": "stdout",
     "output_type": "stream",
     "text": [
      "A área do Paralelogramo é:  114.99999999999999\n"
     ]
    }
   ],
   "source": [
    "print(\"A área do Paralelogramo é: \" ,areaParalelogramo)"
   ],
   "metadata": {
    "collapsed": false,
    "ExecuteTime": {
     "end_time": "2024-07-31T22:38:34.908732Z",
     "start_time": "2024-07-31T22:38:34.894632200Z"
    }
   }
  }
 ],
 "metadata": {
  "kernelspec": {
   "display_name": "Python 3",
   "language": "python",
   "name": "python3"
  },
  "language_info": {
   "codemirror_mode": {
    "name": "ipython",
    "version": 2
   },
   "file_extension": ".py",
   "mimetype": "text/x-python",
   "name": "python",
   "nbconvert_exporter": "python",
   "pygments_lexer": "ipython2",
   "version": "2.7.6"
  }
 },
 "nbformat": 4,
 "nbformat_minor": 0
}
