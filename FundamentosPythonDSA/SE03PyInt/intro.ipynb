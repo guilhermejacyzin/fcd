{
 "cells": [
  {
   "cell_type": "code",
   "execution_count": 12,
   "outputs": [
    {
     "data": {
      "text/plain": "'\\nPeça para o usuário inserir o comprimento da base\\nArmazene o comprimento da base em uma variável\\nPeça para o usuário inserir altura\\nArmazene a altura em uma variável\\nCalcule a área do paralelogramo: base * altura\\nArmazene o resultado em uma variável\\nExiba o resultado\\nFim\\n'"
     },
     "execution_count": 12,
     "metadata": {},
     "output_type": "execute_result"
    }
   ],
   "source": [
    "\"\"\"\n",
    "Peça para o usuário inserir o comprimento da base\n",
    "Armazene o comprimento da base em uma variável\n",
    "Peça para o usuário inserir altura\n",
    "Armazene a altura em uma variável\n",
    "Calcule a área do paralelogramo: base * altura\n",
    "Armazene o resultado em uma variável\n",
    "Exiba o resultado\n",
    "Fim\n",
    "\"\"\""
   ],
   "metadata": {
    "collapsed": false,
    "ExecuteTime": {
     "end_time": "2024-07-31T22:34:23.911887400Z",
     "start_time": "2024-07-31T22:34:23.899888Z"
    }
   }
  },
  {
   "cell_type": "code",
   "execution_count": 13,
   "outputs": [
    {
     "name": "stdout",
     "output_type": "stream",
     "text": [
      "Bem vindo ao Calculador de Área do Paralelogramo\n"
     ]
    }
   ],
   "source": [
    "print(\"Bem vindo ao Calculador de Área do Paralelogramo\")"
   ],
   "metadata": {
    "collapsed": false,
    "ExecuteTime": {
     "end_time": "2024-07-31T22:34:23.936666500Z",
     "start_time": "2024-07-31T22:34:23.912887900Z"
    }
   }
  },
  {
   "cell_type": "code",
   "execution_count": 14,
   "outputs": [],
   "source": [
    "base = float(input(\"Insira o comprimento da base\"))"
   ],
   "metadata": {
    "collapsed": false,
    "ExecuteTime": {
     "end_time": "2024-07-31T22:34:25.585887200Z",
     "start_time": "2024-07-31T22:34:23.925662500Z"
    }
   }
  },
  {
   "cell_type": "code",
   "execution_count": 15,
   "outputs": [],
   "source": [
    "altura = float(input(\"Agora insira a altura\"))"
   ],
   "metadata": {
    "collapsed": false,
    "ExecuteTime": {
     "end_time": "2024-07-31T22:34:27.019779300Z",
     "start_time": "2024-07-31T22:34:25.574587300Z"
    }
   }
  },
  {
   "cell_type": "code",
   "execution_count": 16,
   "outputs": [],
   "source": [
    "areaParalelogramo = base * altura"
   ],
   "metadata": {
    "collapsed": false,
    "ExecuteTime": {
     "end_time": "2024-07-31T22:34:27.030142800Z",
     "start_time": "2024-07-31T22:34:27.017782900Z"
    }
   }
  },
  {
   "cell_type": "code",
   "execution_count": 17,
   "outputs": [
    {
     "name": "stdout",
     "output_type": "stream",
     "text": [
      "50.0\n"
     ]
    }
   ],
   "source": [
    "print(areaParalelogramo)"
   ],
   "metadata": {
    "collapsed": false,
    "ExecuteTime": {
     "end_time": "2024-07-31T22:34:27.075707100Z",
     "start_time": "2024-07-31T22:34:27.031143Z"
    }
   }
  }
 ],
 "metadata": {
  "kernelspec": {
   "display_name": "Python 3",
   "language": "python",
   "name": "python3"
  },
  "language_info": {
   "codemirror_mode": {
    "name": "ipython",
    "version": 2
   },
   "file_extension": ".py",
   "mimetype": "text/x-python",
   "name": "python",
   "nbconvert_exporter": "python",
   "pygments_lexer": "ipython2",
   "version": "2.7.6"
  }
 },
 "nbformat": 4,
 "nbformat_minor": 0
}
