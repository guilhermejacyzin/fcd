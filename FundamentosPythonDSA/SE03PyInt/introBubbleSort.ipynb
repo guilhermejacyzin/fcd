{
 "cells": [
  {
   "cell_type": "markdown",
   "source": [
    " # Algoritmo Bubble Sort"
   ],
   "metadata": {
    "collapsed": false
   }
  },
  {
   "cell_type": "markdown",
   "source": [
    "#\n",
    "Pseudocodigo\n",
    "    Inicie\n",
    "        Para cada elemente i no array de tamanho n\n",
    "            Para cada elemento j no array de tamanho n - 1\n",
    "                Se elemento i for maior que elemento j\n",
    "                    Troque os elementos i e j\n",
    "        Exiba o array ordenado\n",
    "    Fim"
   ],
   "metadata": {
    "collapsed": false
   }
  },
  {
   "cell_type": "code",
   "execution_count": 5,
   "outputs": [],
   "source": [
    "# Lista exemplo Bubble Sort\n",
    "lista = [6, 3, 12, 7]"
   ],
   "metadata": {
    "collapsed": false,
    "ExecuteTime": {
     "end_time": "2024-08-02T01:09:45.373680400Z",
     "start_time": "2024-08-02T01:09:45.359680600Z"
    }
   }
  },
  {
   "cell_type": "code",
   "execution_count": 6,
   "outputs": [],
   "source": [
    "# Primeira passada do algoritmo - troca os elementos 6 e 3\n",
    "lista = [3, 6, 12, 7]"
   ],
   "metadata": {
    "collapsed": false,
    "ExecuteTime": {
     "end_time": "2024-08-02T01:09:55.078873200Z",
     "start_time": "2024-08-02T01:09:55.071870700Z"
    }
   }
  },
  {
   "cell_type": "code",
   "execution_count": 7,
   "outputs": [],
   "source": [
    "# Segunda passada do algoritmo - não tem troca entre 6 e 7\n",
    "lista = [3, 6, 12, 7]"
   ],
   "metadata": {
    "collapsed": false,
    "ExecuteTime": {
     "end_time": "2024-08-02T01:11:19.338073900Z",
     "start_time": "2024-08-02T01:11:19.329071300Z"
    }
   }
  },
  {
   "cell_type": "code",
   "execution_count": 13,
   "outputs": [],
   "source": [
    "# Terceira passada do algoritmo - troca os elementos 12 e 7\n",
    "lista = [3, 6, 7, 12]"
   ],
   "metadata": {
    "collapsed": false,
    "ExecuteTime": {
     "end_time": "2024-08-02T01:18:42.214742300Z",
     "start_time": "2024-08-02T01:18:42.208741700Z"
    }
   }
  },
  {
   "cell_type": "code",
   "execution_count": 27,
   "outputs": [],
   "source": [
    "def bubble_sort(arr):\n",
    "    n = len(arr)\n",
    "    # Para cada elemento i do array\n",
    "    for i in range(n):\n",
    "        # Para cada elemento j do array\n",
    "        for j in range(0, n-i-1):\n",
    "            # Se elemento j for maior que elemento j+1\n",
    "            if arr[j] > arr[j+1]:\n",
    "                # Troque os elementos j e j+1\n",
    "                arr[j], arr[j+1] = arr[j+1], arr[j]\n",
    "    return arr"
   ],
   "metadata": {
    "collapsed": false,
    "ExecuteTime": {
     "end_time": "2024-08-02T01:25:26.719277200Z",
     "start_time": "2024-08-02T01:25:26.710276900Z"
    }
   }
  },
  {
   "cell_type": "code",
   "execution_count": 28,
   "outputs": [],
   "source": [
    "lista = [6, 7, 8, 3, 10, 19, 4, 1, 0, 61, 30, 16, 17, 2, 29, 34, 43, 21, 11, 39, 56, 67, 12]"
   ],
   "metadata": {
    "collapsed": false,
    "ExecuteTime": {
     "end_time": "2024-08-02T01:25:27.555875Z",
     "start_time": "2024-08-02T01:25:27.553875700Z"
    }
   }
  },
  {
   "cell_type": "code",
   "execution_count": 29,
   "outputs": [
    {
     "name": "stdout",
     "output_type": "stream",
     "text": [
      "[0, 1, 2, 3, 4, 6, 7, 8, 10, 11, 12, 16, 17, 19, 21, 29, 30, 34, 39, 43, 56, 61, 67]\n"
     ]
    }
   ],
   "source": [
    "print(bubble_sort(lista))"
   ],
   "metadata": {
    "collapsed": false,
    "ExecuteTime": {
     "end_time": "2024-08-02T01:25:28.147284Z",
     "start_time": "2024-08-02T01:25:28.140284800Z"
    }
   }
  },
  {
   "cell_type": "code",
   "execution_count": null,
   "outputs": [],
   "source": [],
   "metadata": {
    "collapsed": false
   }
  }
 ],
 "metadata": {
  "kernelspec": {
   "display_name": "Python 3",
   "language": "python",
   "name": "python3"
  },
  "language_info": {
   "codemirror_mode": {
    "name": "ipython",
    "version": 2
   },
   "file_extension": ".py",
   "mimetype": "text/x-python",
   "name": "python",
   "nbconvert_exporter": "python",
   "pygments_lexer": "ipython2",
   "version": "2.7.6"
  }
 },
 "nbformat": 4,
 "nbformat_minor": 0
}
