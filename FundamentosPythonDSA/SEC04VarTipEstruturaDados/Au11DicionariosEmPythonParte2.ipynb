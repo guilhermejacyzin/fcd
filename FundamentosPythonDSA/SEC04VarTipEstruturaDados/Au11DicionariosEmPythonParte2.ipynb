{
 "cells": [
  {
   "cell_type": "code",
   "execution_count": 1,
   "metadata": {
    "collapsed": true,
    "ExecuteTime": {
     "end_time": "2024-09-13T04:55:54.466594800Z",
     "start_time": "2024-09-13T04:55:54.456595700Z"
    }
   },
   "outputs": [],
   "source": [
    "# Dicionário de listas\n",
    "dict3 = {\"chave1\": 1230, \"chave2\": [22,453,73.4], \"chave3\": ['picanha', 'fraldinha', 'alcatra']}"
   ]
  },
  {
   "cell_type": "code",
   "execution_count": 3,
   "outputs": [],
   "source": [
    "# Operações com itens da lista dentro do dicionário\n",
    "var1 = dict3['chave2'][0] - 2"
   ],
   "metadata": {
    "collapsed": false,
    "ExecuteTime": {
     "end_time": "2024-09-13T04:56:42.384755800Z",
     "start_time": "2024-09-13T04:56:42.368757800Z"
    }
   }
  },
  {
   "cell_type": "code",
   "execution_count": 4,
   "outputs": [
    {
     "data": {
      "text/plain": "20"
     },
     "execution_count": 4,
     "metadata": {},
     "output_type": "execute_result"
    }
   ],
   "source": [
    "var1"
   ],
   "metadata": {
    "collapsed": false,
    "ExecuteTime": {
     "end_time": "2024-09-13T04:56:45.803078900Z",
     "start_time": "2024-09-13T04:56:45.799079500Z"
    }
   }
  },
  {
   "cell_type": "code",
   "execution_count": 5,
   "outputs": [],
   "source": [
    "# Duas operações no mesmo comando - para atualizar um item dentro da lista\n",
    "dict3['chave2'][0] -=2"
   ],
   "metadata": {
    "collapsed": false,
    "ExecuteTime": {
     "end_time": "2024-09-13T04:57:27.713060300Z",
     "start_time": "2024-09-13T04:57:27.696063200Z"
    }
   }
  },
  {
   "cell_type": "code",
   "execution_count": 6,
   "outputs": [
    {
     "data": {
      "text/plain": "{'chave1': 1230,\n 'chave2': [20, 453, 73.4],\n 'chave3': ['picanha', 'fraldinha', 'alcatra']}"
     },
     "execution_count": 6,
     "metadata": {},
     "output_type": "execute_result"
    }
   ],
   "source": [
    "dict3"
   ],
   "metadata": {
    "collapsed": false,
    "ExecuteTime": {
     "end_time": "2024-09-13T04:57:30.373659400Z",
     "start_time": "2024-09-13T04:57:30.357655700Z"
    }
   }
  },
  {
   "cell_type": "markdown",
   "source": [
    "## Criando dicionários aninhados"
   ],
   "metadata": {
    "collapsed": false
   }
  },
  {
   "cell_type": "code",
   "execution_count": 7,
   "outputs": [],
   "source": [
    "# Criando dicionários aninhados\n",
    "dict_aninhado = {'key1' :{'key2_aninhada': {'key3_aninhada' : 'Dict aninhado em Python'}}}"
   ],
   "metadata": {
    "collapsed": false,
    "ExecuteTime": {
     "end_time": "2024-09-13T05:04:21.666446400Z",
     "start_time": "2024-09-13T05:04:21.654443300Z"
    }
   }
  },
  {
   "cell_type": "code",
   "execution_count": 8,
   "outputs": [
    {
     "data": {
      "text/plain": "{'key1': {'key2_aninhada': {'key3_aninhada': 'Dict aninhado em Python'}}}"
     },
     "execution_count": 8,
     "metadata": {},
     "output_type": "execute_result"
    }
   ],
   "source": [
    "dict_aninhado"
   ],
   "metadata": {
    "collapsed": false,
    "ExecuteTime": {
     "end_time": "2024-09-13T05:04:24.331526900Z",
     "start_time": "2024-09-13T05:04:24.318527500Z"
    }
   }
  },
  {
   "cell_type": "code",
   "execution_count": 9,
   "outputs": [
    {
     "data": {
      "text/plain": "'Dict aninhado em Python'"
     },
     "execution_count": 9,
     "metadata": {},
     "output_type": "execute_result"
    }
   ],
   "source": [
    "dict_aninhado['key1']['key2_aninhada']['key3_aninhada']"
   ],
   "metadata": {
    "collapsed": false,
    "ExecuteTime": {
     "end_time": "2024-09-13T05:08:44.560953700Z",
     "start_time": "2024-09-13T05:08:44.542955100Z"
    }
   }
  },
  {
   "cell_type": "code",
   "execution_count": null,
   "outputs": [],
   "source": [],
   "metadata": {
    "collapsed": false
   }
  }
 ],
 "metadata": {
  "kernelspec": {
   "display_name": "Python 3",
   "language": "python",
   "name": "python3"
  },
  "language_info": {
   "codemirror_mode": {
    "name": "ipython",
    "version": 2
   },
   "file_extension": ".py",
   "mimetype": "text/x-python",
   "name": "python",
   "nbconvert_exporter": "python",
   "pygments_lexer": "ipython2",
   "version": "2.7.6"
  }
 },
 "nbformat": 4,
 "nbformat_minor": 0
}
